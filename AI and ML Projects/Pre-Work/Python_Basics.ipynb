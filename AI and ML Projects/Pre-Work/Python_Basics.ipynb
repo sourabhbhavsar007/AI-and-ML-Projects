{
 "cells": [
  {
   "cell_type": "code",
   "execution_count": 6,
   "metadata": {},
   "outputs": [
    {
     "data": {
      "text/plain": [
       "4"
      ]
     },
     "execution_count": 6,
     "metadata": {},
     "output_type": "execute_result"
    }
   ],
   "source": [
    "2 + 2\n"
   ]
  },
  {
   "cell_type": "markdown",
   "metadata": {},
   "source": [
    "Introduction to Python\n",
    "\n"
   ]
  },
  {
   "cell_type": "code",
   "execution_count": 10,
   "metadata": {},
   "outputs": [
    {
     "name": "stdout",
     "output_type": "stream",
     "text": [
      "Enter number : 5\n",
      "5 X 1 = 5\n",
      "5 X 2 = 10\n",
      "5 X 3 = 15\n",
      "5 X 4 = 20\n",
      "5 X 5 = 25\n",
      "5 X 6 = 30\n",
      "5 X 7 = 35\n",
      "5 X 8 = 40\n",
      "5 X 9 = 45\n",
      "5 X 10 = 50\n"
     ]
    }
   ],
   "source": [
    "i = 1\n",
    "n = int(input(\"Enter number : \"))\n",
    "for i in range(1,11):\n",
    "    print(\"%d X %d = %d\" %(n,i,n*i))"
   ]
  },
  {
   "cell_type": "markdown",
   "metadata": {},
   "source": [
    "Collection of variables :\n",
    "    List\n",
    "    Tuple\n",
    "    Set\n",
    "    Dictionary"
   ]
  },
  {
   "cell_type": "code",
   "execution_count": 12,
   "metadata": {},
   "outputs": [
    {
     "name": "stdout",
     "output_type": "stream",
     "text": [
      "Adam\n",
      "Smith\n",
      "30\n",
      "40\n",
      "50\n"
     ]
    }
   ],
   "source": [
    "l1 = ['Adam', 'Smith', 30,40,50]\n",
    "for i in l1:\n",
    "    print(i)"
   ]
  },
  {
   "cell_type": "code",
   "execution_count": 13,
   "metadata": {},
   "outputs": [
    {
     "name": "stdout",
     "output_type": "stream",
     "text": [
      "Enter number : 3\n",
      "Enter number : 3\n",
      "Enter number : 5\n",
      "Enter number : 5\n",
      "Enter number : 5\n",
      "[1, 2, 3, 4, 5]\n"
     ]
    }
   ],
   "source": [
    "l1 = [1,2,3,4]\n",
    "for i in l1:\n",
    "    n = int(input(\"Enter number : \"))\n",
    "    if(n not in l1):\n",
    "        l1.append(n)\n",
    "\n",
    "print(l1);"
   ]
  },
  {
   "cell_type": "code",
   "execution_count": 14,
   "metadata": {},
   "outputs": [
    {
     "name": "stdout",
     "output_type": "stream",
     "text": [
      "[1, 2, 3, 4, 5, 1, 2, 3, 4, 5, 1, 2, 3, 4, 5, 1, 2, 3, 4, 5]\n"
     ]
    }
   ],
   "source": [
    "print(l1*4)"
   ]
  },
  {
   "cell_type": "code",
   "execution_count": 15,
   "metadata": {},
   "outputs": [
    {
     "data": {
      "text/plain": [
       "[1, 2, 3, 4, 5]"
      ]
     },
     "execution_count": 15,
     "metadata": {},
     "output_type": "execute_result"
    }
   ],
   "source": [
    "l1\n"
   ]
  },
  {
   "cell_type": "code",
   "execution_count": 16,
   "metadata": {},
   "outputs": [],
   "source": [
    "l2 = [2,222,2222,l1]"
   ]
  },
  {
   "cell_type": "code",
   "execution_count": 17,
   "metadata": {},
   "outputs": [
    {
     "name": "stdout",
     "output_type": "stream",
     "text": [
      "[2, 222, 2222, [1, 2, 3, 4, 5]]\n"
     ]
    }
   ],
   "source": [
    "print(l2)"
   ]
  },
  {
   "cell_type": "code",
   "execution_count": 18,
   "metadata": {},
   "outputs": [
    {
     "name": "stdout",
     "output_type": "stream",
     "text": [
      "4\n"
     ]
    }
   ],
   "source": [
    "print(l2[3][3])"
   ]
  },
  {
   "cell_type": "code",
   "execution_count": 19,
   "metadata": {},
   "outputs": [
    {
     "name": "stdout",
     "output_type": "stream",
     "text": [
      "5\n",
      "8\n",
      "Enter number 1  : 2\n",
      "Enter number 2  : 2\n",
      "Result : 1\n",
      "Enter your age : 2\n",
      "the age is valid\n"
     ]
    }
   ],
   "source": [
    "class Sum:\n",
    "    def sum(self,a,b):\n",
    "        print(a+b);\n",
    "\n",
    "class Diff:\n",
    "    def diff(self,a,b):\n",
    "        print(a-b);\n",
    "    \n",
    "\n",
    "class Calc(Sum,Diff):\n",
    "    def __init__(self):\n",
    "        return;\n",
    "    \n",
    "c = Calc()\n",
    "c.sum(2,3)\n",
    "\n",
    "\n",
    "\n",
    "\n",
    "class Bank:\n",
    "    def getRoi(self):\n",
    "        print(7);\n",
    "        \n",
    "\n",
    "class SBI(Bank):\n",
    "    def getRoi(self):\n",
    "        print(8);\n",
    "\n",
    "\n",
    "b = SBI();\n",
    "b.getRoi();\n",
    "\n",
    "\n",
    "\n",
    "try:\n",
    "    a = int(input(\"Enter number 1  : \"))\n",
    "    b = int(input(\"Enter number 2  : \"));\n",
    "    res = a / b;\n",
    "    \n",
    "except Exception:\n",
    "    print(\"Cannot divide by zero\");\n",
    "else:\n",
    "    print(\"Result : %d\" %res);\n",
    "\n",
    "\n",
    "try:  \n",
    "    age = int(input(\"Enter your age : \"))  \n",
    "    if age < 0:  \n",
    "        raise ValueError;  \n",
    "    else:  \n",
    "        print(\"the age is valid\")  \n",
    "        \n",
    "except ValueError:  \n",
    "    print(\"The age is not valid\")  "
   ]
  },
  {
   "cell_type": "code",
   "execution_count": 20,
   "metadata": {},
   "outputs": [
    {
     "name": "stdout",
     "output_type": "stream",
     "text": [
      "Employee Id : 111  Name : Amit  Salary : 90000\n",
      "Employee Id : 222  Name : Bob  Salary : 98000\n",
      "Bonus : 1000\n"
     ]
    }
   ],
   "source": [
    "class Employee:\n",
    "   \n",
    "    \n",
    "    def __init__(self, id, name, salary):\n",
    "        self.id = id;\n",
    "        self.name = name;\n",
    "        self.salary =salary;\n",
    "    \n",
    "    def display(self):\n",
    "        print(\"Employee Id : %d  Name : %s  Salary : %d\" %(self.id,self.name, self.salary));\n",
    "        \n",
    "\n",
    "e1 = Employee(111,\"Amit\",90000);\n",
    "e1.display();\n",
    "\n",
    "\n",
    "class Contractor(Employee):\n",
    "    def __init__(self, id, name, salary, bonus):\n",
    "        super().__init__(id, name, salary)\n",
    "        self.bonus = 1000\n",
    "    \n",
    "    def display(self):\n",
    "        super().display();\n",
    "        print(\"Bonus : %d\" % (self.bonus));\n",
    "        \n",
    "\n",
    "c1 = Contractor(222, \"Bob\", 98000, 1000)\n",
    "c1.display();"
   ]
  },
  {
   "cell_type": "code",
   "execution_count": 48,
   "metadata": {},
   "outputs": [
    {
     "name": "stdout",
     "output_type": "stream",
     "text": [
      "Employee details : Id : 1001 | Name : Amit | Salary : 4000 \n",
      "Skills : ['Java', 'Angular'] | Ratings : 4 \n",
      "Employee Amit is eligible for bonus :)\n",
      "Bonus Details : {'Amit': 5000}\n"
     ]
    }
   ],
   "source": [
    "class Employee:\n",
    "    def __init__(self, id, name, salary, skills, ratings):\n",
    "        self.id = id\n",
    "        self.name = name\n",
    "        self.salary = salary\n",
    "        self.ratings = ratings\n",
    "        self.skills = skills\n",
    "        \n",
    "    def displayEmployee(self):\n",
    "        print(\"Employee details : Id : %d | Name : %s | Salary : %d \" %(self.id, self.name, self.salary))\n",
    "        print(\"Skills : %s | Ratings : %d \" %(self.skills, self.ratings))\n",
    "        \n",
    "    def isEligibleForBonus(self):\n",
    "        if(self.salary < 20000 and self.ratings > 3 and 'Java' in self.skills):\n",
    "            print(\"Employee %s is eligible for bonus :)\" %self.name)\n",
    "            bonus_details = {self.name : self.salary + 1000}\n",
    "            print(\"Bonus Details : %s\" %bonus_details)\n",
    "        else:\n",
    "            print(\"Employee %s is not eligible for bonus :(\" %self.name)\n",
    "        \n",
    "\n",
    "e1 = Employee(1001, \"Amit\", 4000, [\"Java\", \"Angular\"], 4)\n",
    "e1.displayEmployee();\n",
    "e1.isEligibleForBonus();"
   ]
  },
  {
   "cell_type": "code",
   "execution_count": null,
   "metadata": {},
   "outputs": [],
   "source": []
  }
 ],
 "metadata": {
  "kernelspec": {
   "display_name": "Python 3",
   "language": "python",
   "name": "python3"
  },
  "language_info": {
   "codemirror_mode": {
    "name": "ipython",
    "version": 3
   },
   "file_extension": ".py",
   "mimetype": "text/x-python",
   "name": "python",
   "nbconvert_exporter": "python",
   "pygments_lexer": "ipython3",
   "version": "3.7.4"
  }
 },
 "nbformat": 4,
 "nbformat_minor": 2
}
