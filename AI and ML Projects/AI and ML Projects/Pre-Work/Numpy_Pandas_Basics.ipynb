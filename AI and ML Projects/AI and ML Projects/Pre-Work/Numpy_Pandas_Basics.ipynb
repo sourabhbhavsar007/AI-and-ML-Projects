{
 "cells": [
  {
   "cell_type": "code",
   "execution_count": 14,
   "metadata": {},
   "outputs": [],
   "source": [
    "import numpy as np\n",
    "import pandas as pd"
   ]
  },
  {
   "cell_type": "code",
   "execution_count": 12,
   "metadata": {},
   "outputs": [
    {
     "name": "stdout",
     "output_type": "stream",
     "text": [
      "[[1 2 3]\n",
      " [4 5 6]\n",
      " [7 8 9]]\n",
      "[[ 2  4  6]\n",
      " [ 8 10 12]\n",
      " [14 16 18]]\n",
      "\n",
      "[[  2   8  18]\n",
      " [ 32  50  72]\n",
      " [ 98 128 162]]\n"
     ]
    }
   ],
   "source": [
    "np.arange(0,15)\n",
    "\n",
    "mat1 = np.array([[1,2,3],[4,5,6],[7,8,9]])\n",
    "print(mat1)\n",
    "mat2 = 2* mat1\n",
    "print(mat2)\n",
    "print('')\n",
    "print(mat1 * mat2)"
   ]
  },
  {
   "cell_type": "code",
   "execution_count": 10,
   "metadata": {},
   "outputs": [
    {
     "name": "stdout",
     "output_type": "stream",
     "text": [
      "[ 0.14992037  0.35456557 -0.60092576  1.27889309  0.2676892   0.28060153\n",
      "  0.62119065  0.33145562  1.35851851 -0.37884745]\n",
      "0.28060152653348314\n",
      "[-0.60092576  1.27889309]\n",
      "[ 0.14992037 -0.60092576  0.2676892 ]\n"
     ]
    }
   ],
   "source": [
    "vec = np.random.randn(10)\n",
    "print(vec)\n",
    "print(vec[5])\n",
    "print(vec[2:4])\n",
    "print(vec[np.arange(0,6,2)])"
   ]
  },
  {
   "cell_type": "code",
   "execution_count": 21,
   "metadata": {},
   "outputs": [
    {
     "name": "stdout",
     "output_type": "stream",
     "text": [
      "0    1\n",
      "1    2\n",
      "2    3\n",
      "3    4\n",
      "dtype: int64\n",
      "0    1\n",
      "1    2\n",
      "2    3\n",
      "3    4\n",
      "dtype: int64\n",
      "        0\n",
      "First   1\n",
      "Second  2\n",
      "Third   3\n",
      "Fourth  4\n",
      "0    2\n",
      "Name: Second, dtype: int64\n"
     ]
    }
   ],
   "source": [
    "list = [1,2,3,4]\n",
    "array = np.array(list)\n",
    "print(pd.Series(list))\n",
    "print(pd.Series(array))\n",
    "\n",
    "df1 = pd.DataFrame(array, ['First', 'Second', 'Third', 'Fourth'])\n",
    "print(df1)\n",
    "print(df1.loc['Second'])"
   ]
  },
  {
   "cell_type": "code",
   "execution_count": 28,
   "metadata": {},
   "outputs": [
    {
     "name": "stdout",
     "output_type": "stream",
     "text": [
      "  customers       city     contact\n",
      "0      Amit       Pune  9890123456\n",
      "1       Bob     Mumbai  8790987890\n",
      "2   Chandan  Bangalore  7890098890\n",
      "3    Denver    Chennai  7656789890\n",
      "0         Pune\n",
      "1       Mumbai\n",
      "2    Bangalore\n",
      "3      Chennai\n",
      "Name: city, dtype: object\n",
      "\n",
      "customers       Chandan\n",
      "city          Bangalore\n",
      "contact      7890098890\n",
      "Name: 2, dtype: object\n"
     ]
    }
   ],
   "source": [
    "dict1 = {\n",
    "    \"customers\" : [\"Amit\", \"Bob\", \"Chandan\", \"Denver\"],\n",
    "    \"city\" : [\"Pune\", \"Mumbai\", \"Bangalore\", \"Chennai\"],\n",
    "    \"contact\" : [\"9890123456\", \"8790987890\", \"7890098890\", \"7656789890\"]\n",
    "}\n",
    "\n",
    "dict2 = {\n",
    "    \"customers\" : [\"Amit\", \"Bob\", \"Chandan\", \"Denver\"],\n",
    "    \"company\" : [\"IBM\", \"TCS\", \"Infosys\", \"Wipro\"],\n",
    "    \"salary\" : [\"12 LPA\", \"13 LPA\", \"11 LPA\", \"14 LPA\"]\n",
    "}\n",
    "\n",
    "\n",
    "df2 = pd.DataFrame(dict1)\n",
    "df3 = pd.DataFrame(dict2)\n",
    "print(df2)\n",
    "print(df2[\"city\"])\n",
    "print(\"\")\n",
    "print(df2.iloc[2])\n"
   ]
  },
  {
   "cell_type": "code",
   "execution_count": 35,
   "metadata": {},
   "outputs": [
    {
     "name": "stdout",
     "output_type": "stream",
     "text": [
      "Merge and Join Demo\n"
     ]
    },
    {
     "data": {
      "text/html": [
       "<div>\n",
       "<style scoped>\n",
       "    .dataframe tbody tr th:only-of-type {\n",
       "        vertical-align: middle;\n",
       "    }\n",
       "\n",
       "    .dataframe tbody tr th {\n",
       "        vertical-align: top;\n",
       "    }\n",
       "\n",
       "    .dataframe thead th {\n",
       "        text-align: right;\n",
       "    }\n",
       "</style>\n",
       "<table border=\"1\" class=\"dataframe\">\n",
       "  <thead>\n",
       "    <tr style=\"text-align: right;\">\n",
       "      <th></th>\n",
       "      <th>customers</th>\n",
       "      <th>city</th>\n",
       "      <th>contact</th>\n",
       "      <th>company</th>\n",
       "      <th>salary</th>\n",
       "    </tr>\n",
       "  </thead>\n",
       "  <tbody>\n",
       "    <tr>\n",
       "      <td>0</td>\n",
       "      <td>Amit</td>\n",
       "      <td>Pune</td>\n",
       "      <td>9890123456</td>\n",
       "      <td>IBM</td>\n",
       "      <td>12 LPA</td>\n",
       "    </tr>\n",
       "    <tr>\n",
       "      <td>1</td>\n",
       "      <td>Bob</td>\n",
       "      <td>Mumbai</td>\n",
       "      <td>8790987890</td>\n",
       "      <td>TCS</td>\n",
       "      <td>13 LPA</td>\n",
       "    </tr>\n",
       "    <tr>\n",
       "      <td>2</td>\n",
       "      <td>Chandan</td>\n",
       "      <td>Bangalore</td>\n",
       "      <td>7890098890</td>\n",
       "      <td>Infosys</td>\n",
       "      <td>11 LPA</td>\n",
       "    </tr>\n",
       "    <tr>\n",
       "      <td>3</td>\n",
       "      <td>Denver</td>\n",
       "      <td>Chennai</td>\n",
       "      <td>7656789890</td>\n",
       "      <td>Wipro</td>\n",
       "      <td>14 LPA</td>\n",
       "    </tr>\n",
       "  </tbody>\n",
       "</table>\n",
       "</div>"
      ],
      "text/plain": [
       "  customers       city     contact  company  salary\n",
       "0      Amit       Pune  9890123456      IBM  12 LPA\n",
       "1       Bob     Mumbai  8790987890      TCS  13 LPA\n",
       "2   Chandan  Bangalore  7890098890  Infosys  11 LPA\n",
       "3    Denver    Chennai  7656789890    Wipro  14 LPA"
      ]
     },
     "execution_count": 35,
     "metadata": {},
     "output_type": "execute_result"
    }
   ],
   "source": [
    "dict1 = {\n",
    "    \"customers\" : [\"Amit\", \"Bob\", \"Chandan\", \"Denver\"],\n",
    "    \"city\" : [\"Pune\", \"Mumbai\", \"Bangalore\", \"Chennai\"],\n",
    "    \"contact\" : [\"9890123456\", \"8790987890\", \"7890098890\", \"7656789890\"]\n",
    "}\n",
    "\n",
    "dict2 = {\n",
    "    \"customers\" : [\"Amit\", \"Bob\", \"Chandan\", \"Denver\"],\n",
    "    \"company\" : [\"IBM\", \"TCS\", \"Infosys\", \"Wipro\"],\n",
    "    \"salary\" : [\"12 LPA\", \"13 LPA\", \"11 LPA\", \"14 LPA\"]\n",
    "}\n",
    "\n",
    "\n",
    "df2 = pd.DataFrame(dict1)\n",
    "df3 = pd.DataFrame(dict2)\n",
    "\n",
    "\n",
    "print('Merge and Join Demo')\n",
    "\n",
    "pd.merge(df2,df3, how=\"outer\", on=\"customers\")"
   ]
  },
  {
   "cell_type": "code",
   "execution_count": 38,
   "metadata": {},
   "outputs": [
    {
     "data": {
      "text/html": [
       "<div>\n",
       "<style scoped>\n",
       "    .dataframe tbody tr th:only-of-type {\n",
       "        vertical-align: middle;\n",
       "    }\n",
       "\n",
       "    .dataframe tbody tr th {\n",
       "        vertical-align: top;\n",
       "    }\n",
       "\n",
       "    .dataframe thead th {\n",
       "        text-align: right;\n",
       "    }\n",
       "</style>\n",
       "<table border=\"1\" class=\"dataframe\">\n",
       "  <thead>\n",
       "    <tr style=\"text-align: right;\">\n",
       "      <th></th>\n",
       "      <th>customers</th>\n",
       "      <th>company</th>\n",
       "      <th>salary</th>\n",
       "    </tr>\n",
       "  </thead>\n",
       "  <tbody>\n",
       "    <tr>\n",
       "      <td>2</td>\n",
       "      <td>Chandan</td>\n",
       "      <td>Infosys</td>\n",
       "      <td>11 LPA</td>\n",
       "    </tr>\n",
       "    <tr>\n",
       "      <td>0</td>\n",
       "      <td>Amit</td>\n",
       "      <td>IBM</td>\n",
       "      <td>12 LPA</td>\n",
       "    </tr>\n",
       "    <tr>\n",
       "      <td>1</td>\n",
       "      <td>Bob</td>\n",
       "      <td>TCS</td>\n",
       "      <td>13 LPA</td>\n",
       "    </tr>\n",
       "    <tr>\n",
       "      <td>3</td>\n",
       "      <td>Denver</td>\n",
       "      <td>Wipro</td>\n",
       "      <td>14 LPA</td>\n",
       "    </tr>\n",
       "  </tbody>\n",
       "</table>\n",
       "</div>"
      ],
      "text/plain": [
       "  customers  company  salary\n",
       "2   Chandan  Infosys  11 LPA\n",
       "0      Amit      IBM  12 LPA\n",
       "1       Bob      TCS  13 LPA\n",
       "3    Denver    Wipro  14 LPA"
      ]
     },
     "execution_count": 38,
     "metadata": {},
     "output_type": "execute_result"
    }
   ],
   "source": [
    "df3.sort_values(by=\"salary\", inplace=True)\n",
    "df3"
   ]
  },
  {
   "cell_type": "code",
   "execution_count": 39,
   "metadata": {},
   "outputs": [
    {
     "data": {
      "text/plain": [
       "5"
      ]
     },
     "execution_count": 39,
     "metadata": {},
     "output_type": "execute_result"
    }
   ],
   "source": [
    "flowers = pd.Series([2, 3, 5, 4], index=['lily', 'rose', 'daisy', 'lotus'])\n",
    "\n",
    "flowers['daisy']"
   ]
  },
  {
   "cell_type": "code",
   "execution_count": 41,
   "metadata": {},
   "outputs": [
    {
     "data": {
      "text/plain": [
       "39"
      ]
     },
     "execution_count": 41,
     "metadata": {},
     "output_type": "execute_result"
    }
   ],
   "source": [
    "demo_matrix = np.array(([13,35,74,48], [23,37,37,38],[73,39,93,39]))\n",
    "demo_matrix[2,3]"
   ]
  },
  {
   "cell_type": "code",
   "execution_count": 42,
   "metadata": {},
   "outputs": [
    {
     "data": {
      "text/html": [
       "<div>\n",
       "<style scoped>\n",
       "    .dataframe tbody tr th:only-of-type {\n",
       "        vertical-align: middle;\n",
       "    }\n",
       "\n",
       "    .dataframe tbody tr th {\n",
       "        vertical-align: top;\n",
       "    }\n",
       "\n",
       "    .dataframe thead th {\n",
       "        text-align: right;\n",
       "    }\n",
       "</style>\n",
       "<table border=\"1\" class=\"dataframe\">\n",
       "  <thead>\n",
       "    <tr style=\"text-align: right;\">\n",
       "      <th></th>\n",
       "      <th>prodname</th>\n",
       "      <th>profit</th>\n",
       "    </tr>\n",
       "    <tr>\n",
       "      <th>prodID</th>\n",
       "      <th></th>\n",
       "      <th></th>\n",
       "    </tr>\n",
       "  </thead>\n",
       "  <tbody>\n",
       "    <tr>\n",
       "      <td>101</td>\n",
       "      <td>X</td>\n",
       "      <td>2738</td>\n",
       "    </tr>\n",
       "    <tr>\n",
       "      <td>102</td>\n",
       "      <td>Y</td>\n",
       "      <td>2727</td>\n",
       "    </tr>\n",
       "    <tr>\n",
       "      <td>103</td>\n",
       "      <td>Z</td>\n",
       "      <td>3497</td>\n",
       "    </tr>\n",
       "    <tr>\n",
       "      <td>104</td>\n",
       "      <td>X</td>\n",
       "      <td>7347</td>\n",
       "    </tr>\n",
       "  </tbody>\n",
       "</table>\n",
       "</div>"
      ],
      "text/plain": [
       "       prodname profit\n",
       "prodID                \n",
       "101           X   2738\n",
       "102           Y   2727\n",
       "103           Z   3497\n",
       "104           X   7347"
      ]
     },
     "execution_count": 42,
     "metadata": {},
     "output_type": "execute_result"
    }
   ],
   "source": [
    "data = {'prodID': ['101', '102', '103', '104', '104'],\n",
    "\n",
    "                    'prodname': ['X', 'Y', 'Z', 'X', 'W'],\n",
    "\n",
    "                     'profit': ['2738', '2727', '3497', '7347', '3743']}\n",
    "\n",
    "dataframe = pd.DataFrame(data)\n",
    "\n",
    "dataframe\n",
    "\n",
    "grouped_data = dataframe.groupby('prodID')\n",
    "\n",
    "grouped_data.max()"
   ]
  },
  {
   "cell_type": "code",
   "execution_count": 48,
   "metadata": {},
   "outputs": [
    {
     "data": {
      "text/plain": [
       "0    a\n",
       "1    b\n",
       "0    c\n",
       "1    d\n",
       "dtype: object"
      ]
     },
     "execution_count": 48,
     "metadata": {},
     "output_type": "execute_result"
    }
   ],
   "source": [
    "s1 = pd.Series(['a', 'b'])\n",
    "\n",
    "s2 = pd.Series(['c', 'd'])\n",
    "\n",
    "pd.concat([s1, s2])"
   ]
  },
  {
   "cell_type": "code",
   "execution_count": 49,
   "metadata": {},
   "outputs": [
    {
     "data": {
      "text/plain": [
       "array([ 0,  6, 12, 18])"
      ]
     },
     "execution_count": 49,
     "metadata": {},
     "output_type": "execute_result"
    }
   ],
   "source": [
    "np.arange(0,22,6)"
   ]
  },
  {
   "cell_type": "code",
   "execution_count": 50,
   "metadata": {},
   "outputs": [
    {
     "data": {
      "text/plain": [
       "array([101, 101, 101, 101, 101, 101, 101])"
      ]
     },
     "execution_count": 50,
     "metadata": {},
     "output_type": "execute_result"
    }
   ],
   "source": [
    "demo_array = np.arange(10,21)\n",
    "\n",
    "subset_demo_array = demo_array[0:7]\n",
    "\n",
    "subset_demo_array[:]= 101\n",
    "\n",
    "subset_demo_array"
   ]
  },
  {
   "cell_type": "code",
   "execution_count": null,
   "metadata": {},
   "outputs": [],
   "source": []
  }
 ],
 "metadata": {
  "kernelspec": {
   "display_name": "Python 3",
   "language": "python",
   "name": "python3"
  },
  "language_info": {
   "codemirror_mode": {
    "name": "ipython",
    "version": 3
   },
   "file_extension": ".py",
   "mimetype": "text/x-python",
   "name": "python",
   "nbconvert_exporter": "python",
   "pygments_lexer": "ipython3",
   "version": "3.7.4"
  }
 },
 "nbformat": 4,
 "nbformat_minor": 2
}
