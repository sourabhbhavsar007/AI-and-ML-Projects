{
 "cells": [
  {
   "cell_type": "markdown",
   "metadata": {
    "id": "Yp6fl91iC_sT"
   },
   "source": [
    "##Part 1"
   ]
  },
  {
   "cell_type": "markdown",
   "metadata": {
    "id": "MnBVjcaIC1h5"
   },
   "source": [
    "CONTEXT: Classification  is  probably  the  most  popular  task  that  you  would  deal  with  in  real  life.  Text  in  the  form  of  blogs,  posts,  articles, etc.  is  written  every  second.  It  is  a  challenge  to  predict  the  information  about  the  writer  without  knowing  about  him/her.  We  are  going  to create a classifier that predicts multiple features of the author of a given text. We have designed it as a Multi label classification problem."
   ]
  },
  {
   "cell_type": "markdown",
   "metadata": {
    "id": "wrEzCe8JDcY5"
   },
   "source": [
    "###Import Packages :\n"
   ]
  },
  {
   "cell_type": "code",
   "execution_count": 1,
   "metadata": {
    "id": "lkhJCA1pDgZR"
   },
   "outputs": [],
   "source": [
    "import numpy as np\n",
    "import pandas as pd\n",
    "import re\n",
    "import nltk\n",
    "import seaborn as sns \n",
    "import matplotlib.pyplot as plt\n",
    "%matplotlib inline\n",
    "import warnings\n",
    "warnings.filterwarnings('ignore')\n"
   ]
  },
  {
   "cell_type": "markdown",
   "metadata": {
    "id": "3ZeqrPapDyLM"
   },
   "source": [
    "###Load Dataset :\n"
   ]
  },
  {
   "cell_type": "code",
   "execution_count": 2,
   "metadata": {
    "colab": {
     "base_uri": "https://localhost:8080/"
    },
    "id": "D1oUqj8tD0pE",
    "outputId": "6b05502c-086f-4ba8-e9c4-2ef49d8c7ebd"
   },
   "outputs": [
    {
     "name": "stdout",
     "output_type": "stream",
     "text": [
      "Mounted at /content/drive/\n"
     ]
    }
   ],
   "source": [
    "from google.colab import drive\n",
    "drive.mount('/content/drive/')"
   ]
  },
  {
   "cell_type": "code",
   "execution_count": 3,
   "metadata": {
    "colab": {
     "base_uri": "https://localhost:8080/",
     "height": 197
    },
    "id": "xsfaX_9EEdXt",
    "outputId": "09524862-5413-464b-84f8-d109b5d81727"
   },
   "outputs": [
    {
     "data": {
      "text/html": [
       "<div>\n",
       "<style scoped>\n",
       "    .dataframe tbody tr th:only-of-type {\n",
       "        vertical-align: middle;\n",
       "    }\n",
       "\n",
       "    .dataframe tbody tr th {\n",
       "        vertical-align: top;\n",
       "    }\n",
       "\n",
       "    .dataframe thead th {\n",
       "        text-align: right;\n",
       "    }\n",
       "</style>\n",
       "<table border=\"1\" class=\"dataframe\">\n",
       "  <thead>\n",
       "    <tr style=\"text-align: right;\">\n",
       "      <th></th>\n",
       "      <th>id</th>\n",
       "      <th>gender</th>\n",
       "      <th>age</th>\n",
       "      <th>topic</th>\n",
       "      <th>sign</th>\n",
       "      <th>date</th>\n",
       "      <th>text</th>\n",
       "    </tr>\n",
       "  </thead>\n",
       "  <tbody>\n",
       "    <tr>\n",
       "      <th>0</th>\n",
       "      <td>2059027</td>\n",
       "      <td>male</td>\n",
       "      <td>15</td>\n",
       "      <td>Student</td>\n",
       "      <td>Leo</td>\n",
       "      <td>14,May,2004</td>\n",
       "      <td>Info has been found (+/- 100 pages,...</td>\n",
       "    </tr>\n",
       "    <tr>\n",
       "      <th>1</th>\n",
       "      <td>2059027</td>\n",
       "      <td>male</td>\n",
       "      <td>15</td>\n",
       "      <td>Student</td>\n",
       "      <td>Leo</td>\n",
       "      <td>13,May,2004</td>\n",
       "      <td>These are the team members:   Drewe...</td>\n",
       "    </tr>\n",
       "    <tr>\n",
       "      <th>2</th>\n",
       "      <td>2059027</td>\n",
       "      <td>male</td>\n",
       "      <td>15</td>\n",
       "      <td>Student</td>\n",
       "      <td>Leo</td>\n",
       "      <td>12,May,2004</td>\n",
       "      <td>In het kader van kernfusie op aarde...</td>\n",
       "    </tr>\n",
       "    <tr>\n",
       "      <th>3</th>\n",
       "      <td>2059027</td>\n",
       "      <td>male</td>\n",
       "      <td>15</td>\n",
       "      <td>Student</td>\n",
       "      <td>Leo</td>\n",
       "      <td>12,May,2004</td>\n",
       "      <td>testing!!!  testing!!!</td>\n",
       "    </tr>\n",
       "    <tr>\n",
       "      <th>4</th>\n",
       "      <td>3581210</td>\n",
       "      <td>male</td>\n",
       "      <td>33</td>\n",
       "      <td>InvestmentBanking</td>\n",
       "      <td>Aquarius</td>\n",
       "      <td>11,June,2004</td>\n",
       "      <td>Thanks to Yahoo!'s Toolbar I can ...</td>\n",
       "    </tr>\n",
       "  </tbody>\n",
       "</table>\n",
       "</div>"
      ],
      "text/plain": [
       "        id  ...                                               text\n",
       "0  2059027  ...             Info has been found (+/- 100 pages,...\n",
       "1  2059027  ...             These are the team members:   Drewe...\n",
       "2  2059027  ...             In het kader van kernfusie op aarde...\n",
       "3  2059027  ...                   testing!!!  testing!!!          \n",
       "4  3581210  ...               Thanks to Yahoo!'s Toolbar I can ...\n",
       "\n",
       "[5 rows x 7 columns]"
      ]
     },
     "execution_count": 3,
     "metadata": {
      "tags": []
     },
     "output_type": "execute_result"
    }
   ],
   "source": [
    "data = pd.read_csv('/content/drive/My Drive/NLP/blogtext.csv')\n",
    "data.head()"
   ]
  },
  {
   "cell_type": "markdown",
   "metadata": {
    "id": "UFGtGAVStHz1"
   },
   "source": [
    "###Checking for null values in the dataset :"
   ]
  },
  {
   "cell_type": "code",
   "execution_count": 100,
   "metadata": {
    "colab": {
     "base_uri": "https://localhost:8080/"
    },
    "id": "aCfjcg34GI8q",
    "outputId": "650f8964-e438-4f91-c216-1a7b27eaae35"
   },
   "outputs": [
    {
     "data": {
      "text/plain": [
       "id        False\n",
       "gender    False\n",
       "age       False\n",
       "topic     False\n",
       "sign      False\n",
       "date      False\n",
       "text      False\n",
       "dtype: bool"
      ]
     },
     "execution_count": 100,
     "metadata": {
      "tags": []
     },
     "output_type": "execute_result"
    }
   ],
   "source": [
    "#Let's check for null values\n",
    "data.isna().any()"
   ]
  },
  {
   "cell_type": "markdown",
   "metadata": {
    "id": "jakHaB_tGhEH"
   },
   "source": [
    "### We see that there are no null values in the dataset."
   ]
  },
  {
   "cell_type": "markdown",
   "metadata": {
    "id": "McA29Hhsb9nD"
   },
   "source": [
    "###Let's visualize from dataset to get some insights :"
   ]
  },
  {
   "cell_type": "code",
   "execution_count": 102,
   "metadata": {
    "colab": {
     "base_uri": "https://localhost:8080/",
     "height": 296
    },
    "id": "mRXpSxBFcEX-",
    "outputId": "16842617-3d1c-45e7-b8b6-d596ac37fe76"
   },
   "outputs": [
    {
     "data": {
      "text/plain": [
       "<matplotlib.axes._subplots.AxesSubplot at 0x7f58bc031e90>"
      ]
     },
     "execution_count": 102,
     "metadata": {
      "tags": []
     },
     "output_type": "execute_result"
    },
    {
     "data": {
      "image/png": "[encoded data removed]",
      "text/plain": [
       "<Figure size 432x288 with 1 Axes>"
      ]
     },
     "metadata": {
      "needs_background": "light",
      "tags": []
     },
     "output_type": "display_data"
    }
   ],
   "source": [
    "sns.countplot(x ='gender',data=data)"
   ]
  },
  {
   "cell_type": "code",
   "execution_count": 9,
   "metadata": {
    "colab": {
     "base_uri": "https://localhost:8080/",
     "height": 515
    },
    "id": "htLkqjQhcnaq",
    "outputId": "d5688143-1f1f-4a73-c506-55dfc210cd0d"
   },
   "outputs": [
    {
     "data": {
      "image/png": "[encoded data removed]",
      "text/plain": [
       "<Figure size 1440x504 with 1 Axes>"
      ]
     },
     "metadata": {
      "needs_background": "light",
      "tags": []
     },
     "output_type": "display_data"
    },
    {
     "data": {
      "text/plain": [
       "<Figure size 1296x864 with 0 Axes>"
      ]
     },
     "metadata": {
      "tags": []
     },
     "output_type": "display_data"
    }
   ],
   "source": [
    "ax = sns.countplot(x=\"sign\", data=data)\n",
    "\n",
    "ax.set_xticklabels(ax.get_xticklabels(), rotation=90, ha=\"right\")\n",
    "plt.rcParams[\"figure.figsize\"] = (20, 7)\n",
    "plt.figure(figsize=(18,12))\n",
    "plt.rcParams[\"xtick.labelsize\"] = 12\n",
    "plt.show()"
   ]
  },
  {
   "cell_type": "code",
   "execution_count": 8,
   "metadata": {
    "colab": {
     "base_uri": "https://localhost:8080/",
     "height": 604
    },
    "id": "EJFa9uDolFDW",
    "outputId": "688fa05b-8b1a-46b9-d7a4-4099760cab63"
   },
   "outputs": [
    {
     "data": {
      "image/png": "[encoded data removed]",
      "text/plain": [
       "<Figure size 1584x504 with 1 Axes>"
      ]
     },
     "metadata": {
      "needs_background": "light",
      "tags": []
     },
     "output_type": "display_data"
    },
    {
     "data": {
      "text/plain": [
       "<Figure size 1296x864 with 0 Axes>"
      ]
     },
     "metadata": {
      "tags": []
     },
     "output_type": "display_data"
    }
   ],
   "source": [
    "ax = sns.countplot(x=\"topic\", data=data)\n",
    "\n",
    "ax.set_xticklabels(ax.get_xticklabels(), rotation=90, ha=\"right\")\n",
    "plt.rcParams[\"figure.figsize\"] = (20, 7)\n",
    "plt.figure(figsize=(18,12))\n",
    "plt.rcParams[\"xtick.labelsize\"] = 12\n",
    "plt.show()\n"
   ]
  },
  {
   "cell_type": "code",
   "execution_count": 12,
   "metadata": {
    "colab": {
     "base_uri": "https://localhost:8080/"
    },
    "id": "c3IIz8DRGh07",
    "outputId": "04b544b2-1788-482c-d377-bca4a5ce488f"
   },
   "outputs": [
    {
     "data": {
      "text/plain": [
       "(681284, 7)"
      ]
     },
     "execution_count": 12,
     "metadata": {
      "tags": []
     },
     "output_type": "execute_result"
    }
   ],
   "source": [
    "#Now let's check the shape of the data\n",
    "data.shape"
   ]
  },
  {
   "cell_type": "markdown",
   "metadata": {
    "id": "HOm2PqodGzBd"
   },
   "source": [
    "### We see that there are 68,124 records in our dataset and for such large data, analysis and computation can be very complex, resource intensive and costly. Therefore, we will take a subset of our dataset and rerun with the entire data-set once all errors are fixed and optimization is performed.\n",
    "\n",
    "###We will take 10000 records as our subset from given dataset."
   ]
  },
  {
   "cell_type": "code",
   "execution_count": 13,
   "metadata": {
    "id": "GkB-Y8AlHcWq"
   },
   "outputs": [],
   "source": [
    "data=data.head(10000)"
   ]
  },
  {
   "cell_type": "code",
   "execution_count": 14,
   "metadata": {
    "colab": {
     "base_uri": "https://localhost:8080/"
    },
    "id": "r29WUlGbHgFE",
    "outputId": "25f0e6f7-54bf-4410-ec21-0fc7b15db358"
   },
   "outputs": [
    {
     "name": "stdout",
     "output_type": "stream",
     "text": [
      "<class 'pandas.core.frame.DataFrame'>\n",
      "RangeIndex: 10000 entries, 0 to 9999\n",
      "Data columns (total 7 columns):\n",
      " #   Column  Non-Null Count  Dtype \n",
      "---  ------  --------------  ----- \n",
      " 0   id      10000 non-null  int64 \n",
      " 1   gender  10000 non-null  object\n",
      " 2   age     10000 non-null  int64 \n",
      " 3   topic   10000 non-null  object\n",
      " 4   sign    10000 non-null  object\n",
      " 5   date    10000 non-null  object\n",
      " 6   text    10000 non-null  object\n",
      "dtypes: int64(2), object(5)\n",
      "memory usage: 547.0+ KB\n"
     ]
    }
   ],
   "source": [
    "data.info()"
   ]
  },
  {
   "cell_type": "code",
   "execution_count": 15,
   "metadata": {
    "id": "iTVYZ16UHikv"
   },
   "outputs": [],
   "source": [
    "#We will remove id, date columns since they aren't much relevant for our analysis\n",
    "data.drop(['id','date'], axis=1, inplace=True)"
   ]
  },
  {
   "cell_type": "code",
   "execution_count": 16,
   "metadata": {
    "colab": {
     "base_uri": "https://localhost:8080/",
     "height": 197
    },
    "id": "gIq82rJEHxfc",
    "outputId": "fc94c2e7-8253-48d0-d9b7-ddf5544d2009"
   },
   "outputs": [
    {
     "data": {
      "text/html": [
       "<div>\n",
       "<style scoped>\n",
       "    .dataframe tbody tr th:only-of-type {\n",
       "        vertical-align: middle;\n",
       "    }\n",
       "\n",
       "    .dataframe tbody tr th {\n",
       "        vertical-align: top;\n",
       "    }\n",
       "\n",
       "    .dataframe thead th {\n",
       "        text-align: right;\n",
       "    }\n",
       "</style>\n",
       "<table border=\"1\" class=\"dataframe\">\n",
       "  <thead>\n",
       "    <tr style=\"text-align: right;\">\n",
       "      <th></th>\n",
       "      <th>gender</th>\n",
       "      <th>age</th>\n",
       "      <th>topic</th>\n",
       "      <th>sign</th>\n",
       "      <th>text</th>\n",
       "    </tr>\n",
       "  </thead>\n",
       "  <tbody>\n",
       "    <tr>\n",
       "      <th>0</th>\n",
       "      <td>male</td>\n",
       "      <td>15</td>\n",
       "      <td>Student</td>\n",
       "      <td>Leo</td>\n",
       "      <td>Info has been found (+/- 100 pages,...</td>\n",
       "    </tr>\n",
       "    <tr>\n",
       "      <th>1</th>\n",
       "      <td>male</td>\n",
       "      <td>15</td>\n",
       "      <td>Student</td>\n",
       "      <td>Leo</td>\n",
       "      <td>These are the team members:   Drewe...</td>\n",
       "    </tr>\n",
       "    <tr>\n",
       "      <th>2</th>\n",
       "      <td>male</td>\n",
       "      <td>15</td>\n",
       "      <td>Student</td>\n",
       "      <td>Leo</td>\n",
       "      <td>In het kader van kernfusie op aarde...</td>\n",
       "    </tr>\n",
       "    <tr>\n",
       "      <th>3</th>\n",
       "      <td>male</td>\n",
       "      <td>15</td>\n",
       "      <td>Student</td>\n",
       "      <td>Leo</td>\n",
       "      <td>testing!!!  testing!!!</td>\n",
       "    </tr>\n",
       "    <tr>\n",
       "      <th>4</th>\n",
       "      <td>male</td>\n",
       "      <td>33</td>\n",
       "      <td>InvestmentBanking</td>\n",
       "      <td>Aquarius</td>\n",
       "      <td>Thanks to Yahoo!'s Toolbar I can ...</td>\n",
       "    </tr>\n",
       "  </tbody>\n",
       "</table>\n",
       "</div>"
      ],
      "text/plain": [
       "  gender  age  ...      sign                                               text\n",
       "0   male   15  ...       Leo             Info has been found (+/- 100 pages,...\n",
       "1   male   15  ...       Leo             These are the team members:   Drewe...\n",
       "2   male   15  ...       Leo             In het kader van kernfusie op aarde...\n",
       "3   male   15  ...       Leo                   testing!!!  testing!!!          \n",
       "4   male   33  ...  Aquarius               Thanks to Yahoo!'s Toolbar I can ...\n",
       "\n",
       "[5 rows x 5 columns]"
      ]
     },
     "execution_count": 16,
     "metadata": {
      "tags": []
     },
     "output_type": "execute_result"
    }
   ],
   "source": [
    "data.head()"
   ]
  },
  {
   "cell_type": "code",
   "execution_count": 19,
   "metadata": {
    "id": "YgO-xZw2H1Jx"
   },
   "outputs": [],
   "source": [
    "#Convert to object data type\n",
    "data['age']=data['age'].astype('object')"
   ]
  },
  {
   "cell_type": "code",
   "execution_count": 20,
   "metadata": {
    "colab": {
     "base_uri": "https://localhost:8080/"
    },
    "id": "92uH7erRH2ti",
    "outputId": "77c940c8-1296-41cc-fc60-17122251ebb7"
   },
   "outputs": [
    {
     "name": "stdout",
     "output_type": "stream",
     "text": [
      "<class 'pandas.core.frame.DataFrame'>\n",
      "RangeIndex: 10000 entries, 0 to 9999\n",
      "Data columns (total 5 columns):\n",
      " #   Column  Non-Null Count  Dtype \n",
      "---  ------  --------------  ----- \n",
      " 0   gender  10000 non-null  object\n",
      " 1   age     10000 non-null  object\n",
      " 2   topic   10000 non-null  object\n",
      " 3   sign    10000 non-null  object\n",
      " 4   text    10000 non-null  object\n",
      "dtypes: object(5)\n",
      "memory usage: 390.8+ KB\n"
     ]
    }
   ],
   "source": [
    "data.info()"
   ]
  },
  {
   "cell_type": "markdown",
   "metadata": {
    "id": "11pMQC_XID_b"
   },
   "source": [
    "###Now we see that all our attributes are converted to object data type."
   ]
  },
  {
   "cell_type": "markdown",
   "metadata": {
    "id": "6TMXfJEGIb_p"
   },
   "source": [
    "###We will now do Data cleaning or Data Wrangling for 'text' column to remove all unwanted texts.\n",
    "\n",
    "\n",
    "a. Remove unwanted characters\n",
    "\n",
    "b. Convert text to lowercase\n",
    "\n",
    "c. Remove unwanted spaces\n",
    "\n",
    "d. Remove stopwords"
   ]
  },
  {
   "cell_type": "code",
   "execution_count": 21,
   "metadata": {
    "id": "dLbXiRj3IJJw"
   },
   "outputs": [],
   "source": [
    "data['clean_data']=data['text'].apply(lambda x: re.sub(r'[^A-Za-z]+',' ',x))"
   ]
  },
  {
   "cell_type": "code",
   "execution_count": 22,
   "metadata": {
    "id": "5pRR7g3pIuHz"
   },
   "outputs": [],
   "source": [
    "data['clean_data']=data['clean_data'].apply(lambda x: x.lower())"
   ]
  },
  {
   "cell_type": "code",
   "execution_count": 23,
   "metadata": {
    "id": "bbC3teMbI2ZM"
   },
   "outputs": [],
   "source": [
    "data['clean_data']=data['clean_data'].apply(lambda x: x.strip())"
   ]
  },
  {
   "cell_type": "code",
   "execution_count": 24,
   "metadata": {
    "colab": {
     "base_uri": "https://localhost:8080/"
    },
    "id": "r3j9g6LZI7YO",
    "outputId": "80265324-3ab7-4f6b-cf17-2b453fe6c1f4"
   },
   "outputs": [
    {
     "name": "stdout",
     "output_type": "stream",
     "text": [
      "Original data :            These are the team members:   Drewes van der Laag           urlLink mail  Ruiyu Xie                     urlLink mail  Bryan Aaldering (me)          urlLink mail          \n"
     ]
    }
   ],
   "source": [
    "#Let's check our data after transforamtion\n",
    "print(\"Original data : {}\".format(data['text'][1]))"
   ]
  },
  {
   "cell_type": "code",
   "execution_count": 25,
   "metadata": {
    "colab": {
     "base_uri": "https://localhost:8080/"
    },
    "id": "NEND4OijJHRF",
    "outputId": "8017f229-58b3-4a20-9988-a238e1a441f5"
   },
   "outputs": [
    {
     "name": "stdout",
     "output_type": "stream",
     "text": [
      "Data after cleaning : these are the team members drewes van der laag urllink mail ruiyu xie urllink mail bryan aaldering me urllink mail\n"
     ]
    }
   ],
   "source": [
    "print(\"Data after cleaning : {}\".format(data['clean_data'][1]))"
   ]
  },
  {
   "cell_type": "markdown",
   "metadata": {
    "id": "ltXotfqKJULU"
   },
   "source": [
    "###Removing all Stop Words :"
   ]
  },
  {
   "cell_type": "code",
   "execution_count": 32,
   "metadata": {
    "colab": {
     "base_uri": "https://localhost:8080/"
    },
    "id": "Vt_zVPGgJQPe",
    "outputId": "67bf98e1-f6d6-48ac-bc28-1679031d874e"
   },
   "outputs": [
    {
     "name": "stdout",
     "output_type": "stream",
     "text": [
      "[nltk_data] Downloading package stopwords to /root/nltk_data...\n",
      "[nltk_data]   Unzipping corpora/stopwords.zip.\n"
     ]
    },
    {
     "data": {
      "text/plain": [
       "True"
      ]
     },
     "execution_count": 32,
     "metadata": {
      "tags": []
     },
     "output_type": "execute_result"
    }
   ],
   "source": [
    "from nltk.corpus import stopwords\n",
    "nltk.download('stopwords')"
   ]
  },
  {
   "cell_type": "code",
   "execution_count": 33,
   "metadata": {
    "id": "tzZGU7ipJcXF"
   },
   "outputs": [],
   "source": [
    "stopwords=set(stopwords.words('english'))"
   ]
  },
  {
   "cell_type": "code",
   "execution_count": 34,
   "metadata": {
    "id": "PXSxaeOdKxu7"
   },
   "outputs": [],
   "source": [
    "data['clean_data']=data['clean_data'].apply(lambda x: ' '.join([words for words in x.split() if words not in stopwords]))"
   ]
  },
  {
   "cell_type": "code",
   "execution_count": 36,
   "metadata": {
    "colab": {
     "base_uri": "https://localhost:8080/",
     "height": 124
    },
    "id": "mi1cFoXeK0tY",
    "outputId": "eee6b09a-73eb-4168-bd7c-79e7b2bc765f"
   },
   "outputs": [
    {
     "data": {
      "application/vnd.google.colaboratory.intrinsic+json": {
       "type": "string"
      },
      "text/plain": [
       "'ah korean language looks difficult first figure read hanguel korea surprisingly easy learn alphabet characters seems easy vocabulary starts oh backwards us sentence structure yikes luckily many options us slow witted foreigners take language course could list urllink joongang article says lot resources urllink well guy motivation jeon ji hyun latest something actually star movies cfs hear means commercial feature positive saw latest movie sunday night hard describe name english version windstruck korean version yeochinso short ne yeojachingu rul sogayhamnida like introduce girlfriend surprisingly titles make sense like website korean english looks quite good actually urllink movie shown theatres subtitles special times info urllink list many theatres seoul click urllink urllink great reason learn korean already married went foreigners well local korean national course korean take picture put urllink movie hof bar update bud mine passed urllink link giordano ad apparently aired korea nothing xxx sensibilities sort'"
      ]
     },
     "execution_count": 36,
     "metadata": {
      "tags": []
     },
     "output_type": "execute_result"
    }
   ],
   "source": [
    "data['clean_data'][10]"
   ]
  },
  {
   "cell_type": "markdown",
   "metadata": {
    "id": "aBQgN0l9NfTC"
   },
   "source": [
    "###Now we will merge all the other columns into labels columns :"
   ]
  },
  {
   "cell_type": "code",
   "execution_count": 37,
   "metadata": {
    "id": "yu-BGbnRK3fB"
   },
   "outputs": [],
   "source": [
    "data['labels']=data.apply(lambda col: [col['gender'],str(col['age']),col['topic'],col['sign']], axis=1)"
   ]
  },
  {
   "cell_type": "code",
   "execution_count": 38,
   "metadata": {
    "colab": {
     "base_uri": "https://localhost:8080/",
     "height": 197
    },
    "id": "er3rPXjDOonL",
    "outputId": "a91837a1-e843-4e9a-b403-0981546b1ad1"
   },
   "outputs": [
    {
     "data": {
      "text/html": [
       "<div>\n",
       "<style scoped>\n",
       "    .dataframe tbody tr th:only-of-type {\n",
       "        vertical-align: middle;\n",
       "    }\n",
       "\n",
       "    .dataframe tbody tr th {\n",
       "        vertical-align: top;\n",
       "    }\n",
       "\n",
       "    .dataframe thead th {\n",
       "        text-align: right;\n",
       "    }\n",
       "</style>\n",
       "<table border=\"1\" class=\"dataframe\">\n",
       "  <thead>\n",
       "    <tr style=\"text-align: right;\">\n",
       "      <th></th>\n",
       "      <th>gender</th>\n",
       "      <th>age</th>\n",
       "      <th>topic</th>\n",
       "      <th>sign</th>\n",
       "      <th>text</th>\n",
       "      <th>clean_data</th>\n",
       "      <th>labels</th>\n",
       "    </tr>\n",
       "  </thead>\n",
       "  <tbody>\n",
       "    <tr>\n",
       "      <th>0</th>\n",
       "      <td>male</td>\n",
       "      <td>15</td>\n",
       "      <td>Student</td>\n",
       "      <td>Leo</td>\n",
       "      <td>Info has been found (+/- 100 pages,...</td>\n",
       "      <td>info found pages mb pdf files wait untill team...</td>\n",
       "      <td>[male, 15, Student, Leo]</td>\n",
       "    </tr>\n",
       "    <tr>\n",
       "      <th>1</th>\n",
       "      <td>male</td>\n",
       "      <td>15</td>\n",
       "      <td>Student</td>\n",
       "      <td>Leo</td>\n",
       "      <td>These are the team members:   Drewe...</td>\n",
       "      <td>team members drewes van der laag urllink mail ...</td>\n",
       "      <td>[male, 15, Student, Leo]</td>\n",
       "    </tr>\n",
       "    <tr>\n",
       "      <th>2</th>\n",
       "      <td>male</td>\n",
       "      <td>15</td>\n",
       "      <td>Student</td>\n",
       "      <td>Leo</td>\n",
       "      <td>In het kader van kernfusie op aarde...</td>\n",
       "      <td>het kader van kernfusie op aarde maak je eigen...</td>\n",
       "      <td>[male, 15, Student, Leo]</td>\n",
       "    </tr>\n",
       "    <tr>\n",
       "      <th>3</th>\n",
       "      <td>male</td>\n",
       "      <td>15</td>\n",
       "      <td>Student</td>\n",
       "      <td>Leo</td>\n",
       "      <td>testing!!!  testing!!!</td>\n",
       "      <td>testing testing</td>\n",
       "      <td>[male, 15, Student, Leo]</td>\n",
       "    </tr>\n",
       "    <tr>\n",
       "      <th>4</th>\n",
       "      <td>male</td>\n",
       "      <td>33</td>\n",
       "      <td>InvestmentBanking</td>\n",
       "      <td>Aquarius</td>\n",
       "      <td>Thanks to Yahoo!'s Toolbar I can ...</td>\n",
       "      <td>thanks yahoo toolbar capture urls popups means...</td>\n",
       "      <td>[male, 33, InvestmentBanking, Aquarius]</td>\n",
       "    </tr>\n",
       "  </tbody>\n",
       "</table>\n",
       "</div>"
      ],
      "text/plain": [
       "  gender  ...                                   labels\n",
       "0   male  ...                 [male, 15, Student, Leo]\n",
       "1   male  ...                 [male, 15, Student, Leo]\n",
       "2   male  ...                 [male, 15, Student, Leo]\n",
       "3   male  ...                 [male, 15, Student, Leo]\n",
       "4   male  ...  [male, 33, InvestmentBanking, Aquarius]\n",
       "\n",
       "[5 rows x 7 columns]"
      ]
     },
     "execution_count": 38,
     "metadata": {
      "tags": []
     },
     "output_type": "execute_result"
    }
   ],
   "source": [
    "data.head()"
   ]
  },
  {
   "cell_type": "code",
   "execution_count": 39,
   "metadata": {
    "id": "GGtDjdToOta1"
   },
   "outputs": [],
   "source": [
    "data=data[['clean_data','labels']]"
   ]
  },
  {
   "cell_type": "code",
   "execution_count": 40,
   "metadata": {
    "colab": {
     "base_uri": "https://localhost:8080/",
     "height": 197
    },
    "id": "c_E1hB4xOvD1",
    "outputId": "cabaf61c-6999-41fa-d195-ecc0c7c2e3a4"
   },
   "outputs": [
    {
     "data": {
      "text/html": [
       "<div>\n",
       "<style scoped>\n",
       "    .dataframe tbody tr th:only-of-type {\n",
       "        vertical-align: middle;\n",
       "    }\n",
       "\n",
       "    .dataframe tbody tr th {\n",
       "        vertical-align: top;\n",
       "    }\n",
       "\n",
       "    .dataframe thead th {\n",
       "        text-align: right;\n",
       "    }\n",
       "</style>\n",
       "<table border=\"1\" class=\"dataframe\">\n",
       "  <thead>\n",
       "    <tr style=\"text-align: right;\">\n",
       "      <th></th>\n",
       "      <th>clean_data</th>\n",
       "      <th>labels</th>\n",
       "    </tr>\n",
       "  </thead>\n",
       "  <tbody>\n",
       "    <tr>\n",
       "      <th>0</th>\n",
       "      <td>info found pages mb pdf files wait untill team...</td>\n",
       "      <td>[male, 15, Student, Leo]</td>\n",
       "    </tr>\n",
       "    <tr>\n",
       "      <th>1</th>\n",
       "      <td>team members drewes van der laag urllink mail ...</td>\n",
       "      <td>[male, 15, Student, Leo]</td>\n",
       "    </tr>\n",
       "    <tr>\n",
       "      <th>2</th>\n",
       "      <td>het kader van kernfusie op aarde maak je eigen...</td>\n",
       "      <td>[male, 15, Student, Leo]</td>\n",
       "    </tr>\n",
       "    <tr>\n",
       "      <th>3</th>\n",
       "      <td>testing testing</td>\n",
       "      <td>[male, 15, Student, Leo]</td>\n",
       "    </tr>\n",
       "    <tr>\n",
       "      <th>4</th>\n",
       "      <td>thanks yahoo toolbar capture urls popups means...</td>\n",
       "      <td>[male, 33, InvestmentBanking, Aquarius]</td>\n",
       "    </tr>\n",
       "  </tbody>\n",
       "</table>\n",
       "</div>"
      ],
      "text/plain": [
       "                                          clean_data                                   labels\n",
       "0  info found pages mb pdf files wait untill team...                 [male, 15, Student, Leo]\n",
       "1  team members drewes van der laag urllink mail ...                 [male, 15, Student, Leo]\n",
       "2  het kader van kernfusie op aarde maak je eigen...                 [male, 15, Student, Leo]\n",
       "3                                    testing testing                 [male, 15, Student, Leo]\n",
       "4  thanks yahoo toolbar capture urls popups means...  [male, 33, InvestmentBanking, Aquarius]"
      ]
     },
     "execution_count": 40,
     "metadata": {
      "tags": []
     },
     "output_type": "execute_result"
    }
   ],
   "source": [
    "data.head()"
   ]
  },
  {
   "cell_type": "markdown",
   "metadata": {
    "id": "HBv7pi6hO4Si"
   },
   "source": [
    "###Splitting the dataset into X and Y respectively :\n",
    "\n",
    "\n"
   ]
  },
  {
   "cell_type": "code",
   "execution_count": 41,
   "metadata": {
    "id": "ywPF9lD8O07_"
   },
   "outputs": [],
   "source": [
    "X=data['clean_data']"
   ]
  },
  {
   "cell_type": "code",
   "execution_count": 42,
   "metadata": {
    "id": "hKPbDdsFQ7Ea"
   },
   "outputs": [],
   "source": [
    "Y=data['labels']"
   ]
  },
  {
   "cell_type": "markdown",
   "metadata": {
    "id": "jQy-3xUWRRUv"
   },
   "source": [
    "###Now we will perform count vectorizer with bi-grams and tri-grams to get the count vectors of the X data :"
   ]
  },
  {
   "cell_type": "code",
   "execution_count": 43,
   "metadata": {
    "id": "HdWStu33Q9Pi"
   },
   "outputs": [],
   "source": [
    "from sklearn.feature_extraction.text import CountVectorizer"
   ]
  },
  {
   "cell_type": "code",
   "execution_count": 44,
   "metadata": {
    "id": "yrfaDNpgRalZ"
   },
   "outputs": [],
   "source": [
    "vectorizer=CountVectorizer(binary=True, ngram_range=(1,2))"
   ]
  },
  {
   "cell_type": "code",
   "execution_count": 45,
   "metadata": {
    "id": "o9i9s504RdTz"
   },
   "outputs": [],
   "source": [
    "X=vectorizer.fit_transform(X)"
   ]
  },
  {
   "cell_type": "code",
   "execution_count": 46,
   "metadata": {
    "colab": {
     "base_uri": "https://localhost:8080/"
    },
    "id": "eEVREVkvRgQ4",
    "outputId": "ab0eb3dd-642a-400b-98f1-6a1f35dc563d"
   },
   "outputs": [
    {
     "data": {
      "text/plain": [
       "<1x643302 sparse matrix of type '<class 'numpy.int64'>'\n",
       "\twith 25 stored elements in Compressed Sparse Row format>"
      ]
     },
     "execution_count": 46,
     "metadata": {
      "tags": []
     },
     "output_type": "execute_result"
    }
   ],
   "source": [
    "X[1]"
   ]
  },
  {
   "cell_type": "markdown",
   "metadata": {
    "id": "d4lWREFnVuqA"
   },
   "source": [
    "###Now let's see some feature name :\n"
   ]
  },
  {
   "cell_type": "code",
   "execution_count": 53,
   "metadata": {
    "colab": {
     "base_uri": "https://localhost:8080/"
    },
    "id": "B_9TZRzZRjoA",
    "outputId": "edb1ba9e-a0c3-4d53-9e78-13648e34a7a6"
   },
   "outputs": [
    {
     "data": {
      "text/plain": [
       "['aa', 'aa amazing', 'aa anger', 'aa compared', 'aa keeps']"
      ]
     },
     "execution_count": 53,
     "metadata": {
      "tags": []
     },
     "output_type": "execute_result"
    }
   ],
   "source": [
    "vectorizer.get_feature_names()[:5]"
   ]
  },
  {
   "cell_type": "code",
   "execution_count": 51,
   "metadata": {
    "id": "rZt3IsBFV0RS"
   },
   "outputs": [],
   "source": [
    "label_counts=dict()\n",
    "\n",
    "for labels in data.labels.values:\n",
    "    for label in labels:\n",
    "        if label in label_counts:\n",
    "            label_counts[label]+=1\n",
    "        else:\n",
    "            label_counts[label]=1"
   ]
  },
  {
   "cell_type": "code",
   "execution_count": 52,
   "metadata": {
    "colab": {
     "base_uri": "https://localhost:8080/"
    },
    "id": "g8LT5_bcWAj4",
    "outputId": "dd0ad875-f0fa-42d8-fee2-2911f5e0d21b"
   },
   "outputs": [
    {
     "data": {
      "text/plain": [
       "{'13': 42,\n",
       " '14': 212,\n",
       " '15': 602,\n",
       " '16': 440,\n",
       " '17': 1185,\n",
       " '23': 253,\n",
       " '24': 655,\n",
       " '25': 386,\n",
       " '26': 234,\n",
       " '27': 1054,\n",
       " '33': 136,\n",
       " '34': 553,\n",
       " '35': 2315,\n",
       " '36': 1708,\n",
       " '37': 33,\n",
       " '38': 46,\n",
       " '39': 79,\n",
       " '40': 1,\n",
       " '41': 20,\n",
       " '42': 14,\n",
       " '43': 6,\n",
       " '44': 3,\n",
       " '45': 16,\n",
       " '46': 7,\n",
       " 'Accounting': 4,\n",
       " 'Aquarius': 571,\n",
       " 'Aries': 4198,\n",
       " 'Arts': 45,\n",
       " 'Automotive': 14,\n",
       " 'Banking': 16,\n",
       " 'BusinessServices': 91,\n",
       " 'Cancer': 504,\n",
       " 'Capricorn': 215,\n",
       " 'Communications-Media': 99,\n",
       " 'Consulting': 21,\n",
       " 'Education': 270,\n",
       " 'Engineering': 127,\n",
       " 'Fashion': 1622,\n",
       " 'Gemini': 150,\n",
       " 'HumanResources': 2,\n",
       " 'Internet': 118,\n",
       " 'InvestmentBanking': 70,\n",
       " 'Law': 11,\n",
       " 'LawEnforcement-Security': 10,\n",
       " 'Leo': 301,\n",
       " 'Libra': 491,\n",
       " 'Marketing': 156,\n",
       " 'Museums-Libraries': 17,\n",
       " 'Non-Profit': 71,\n",
       " 'Pisces': 454,\n",
       " 'Publishing': 4,\n",
       " 'Religion': 9,\n",
       " 'Sagittarius': 1097,\n",
       " 'Science': 63,\n",
       " 'Scorpio': 971,\n",
       " 'Sports-Recreation': 80,\n",
       " 'Student': 1137,\n",
       " 'Taurus': 812,\n",
       " 'Technology': 2654,\n",
       " 'Telecommunications': 2,\n",
       " 'Virgo': 236,\n",
       " 'female': 4084,\n",
       " 'indUnk': 3287,\n",
       " 'male': 5916}"
      ]
     },
     "execution_count": 52,
     "metadata": {
      "tags": []
     },
     "output_type": "execute_result"
    }
   ],
   "source": [
    "label_counts"
   ]
  },
  {
   "cell_type": "markdown",
   "metadata": {
    "id": "j1_8d8AXWNSk"
   },
   "source": [
    "###Pre-processing the labels :\n",
    "\n",
    "\n",
    "We see that each example can have multiple tags. To deal with such kind of predictions, we need to transform labels in a binary form and the prediction will be a mask of 0s and 1s. For this purpose, it is convenient to use MultiLabelBinarizer from sklearn."
   ]
  },
  {
   "cell_type": "code",
   "execution_count": 54,
   "metadata": {
    "id": "c_zrbi4DWEGP"
   },
   "outputs": [],
   "source": [
    "from sklearn.preprocessing import MultiLabelBinarizer\n",
    "binarizer=MultiLabelBinarizer(classes=sorted(label_counts.keys()))"
   ]
  },
  {
   "cell_type": "code",
   "execution_count": 55,
   "metadata": {
    "id": "YJtMtRS2WUPB"
   },
   "outputs": [],
   "source": [
    "Y=binarizer.fit_transform(data.labels)"
   ]
  },
  {
   "cell_type": "markdown",
   "metadata": {
    "id": "EQW6WER0WpbR"
   },
   "source": [
    "###Splitting the dataset into train and test data in the ratio 80:20 respectively :"
   ]
  },
  {
   "cell_type": "code",
   "execution_count": 56,
   "metadata": {
    "id": "z00Gs7KlWlPq"
   },
   "outputs": [],
   "source": [
    "from sklearn.model_selection import train_test_split"
   ]
  },
  {
   "cell_type": "code",
   "execution_count": 57,
   "metadata": {
    "id": "EWZQYfY7Wxcl"
   },
   "outputs": [],
   "source": [
    "Xtrain,Xtest,Ytrain,Ytest=train_test_split(X,Y,test_size=0.2)"
   ]
  },
  {
   "cell_type": "code",
   "execution_count": 62,
   "metadata": {
    "id": "v_77eiCkW0IX"
   },
   "outputs": [],
   "source": [
    "from sklearn.multiclass import OneVsRestClassifier\n",
    "from sklearn.linear_model import LogisticRegression\n"
   ]
  },
  {
   "cell_type": "markdown",
   "metadata": {
    "id": "J9nvPw9yZ1oV"
   },
   "source": [
    "###Choosing a classifier :\n",
    "\n",
    "Here, we use One-vs-Rest approach, which is implemented in OneVsRestClassifier class, where there are k classifiers (= number of tags) that are trained. As a basic classifier,we will use LogisticRegression . It is one of the simplest methods, but often it performs good enough in text classification tasks. It might take some time because the number of classifiers to train is large."
   ]
  },
  {
   "cell_type": "code",
   "execution_count": 59,
   "metadata": {
    "id": "Mo38NLD0W7NZ"
   },
   "outputs": [],
   "source": [
    "model=LogisticRegression(solver='lbfgs')"
   ]
  },
  {
   "cell_type": "code",
   "execution_count": 60,
   "metadata": {
    "id": "z3XW7jOwW96u"
   },
   "outputs": [],
   "source": [
    "model=OneVsRestClassifier(model)"
   ]
  },
  {
   "cell_type": "code",
   "execution_count": 61,
   "metadata": {
    "colab": {
     "base_uri": "https://localhost:8080/"
    },
    "id": "EZMO77XnXCBD",
    "outputId": "decdb4a5-a175-4165-c428-70e46e0211a4"
   },
   "outputs": [
    {
     "data": {
      "text/plain": [
       "OneVsRestClassifier(estimator=LogisticRegression(C=1.0, class_weight=None,\n",
       "                                                 dual=False, fit_intercept=True,\n",
       "                                                 intercept_scaling=1,\n",
       "                                                 l1_ratio=None, max_iter=100,\n",
       "                                                 multi_class='auto',\n",
       "                                                 n_jobs=None, penalty='l2',\n",
       "                                                 random_state=None,\n",
       "                                                 solver='lbfgs', tol=0.0001,\n",
       "                                                 verbose=0, warm_start=False),\n",
       "                    n_jobs=None)"
      ]
     },
     "execution_count": 61,
     "metadata": {
      "tags": []
     },
     "output_type": "execute_result"
    }
   ],
   "source": [
    "model.fit(Xtrain,Ytrain)"
   ]
  },
  {
   "cell_type": "code",
   "execution_count": 63,
   "metadata": {
    "id": "JIkBMNfRXEVs"
   },
   "outputs": [],
   "source": [
    "Ypred=model.predict(Xtest)"
   ]
  },
  {
   "cell_type": "code",
   "execution_count": 64,
   "metadata": {
    "id": "-FXXGv8JY7-c"
   },
   "outputs": [],
   "source": [
    "Ypred_inversed = binarizer.inverse_transform(Ypred)\n",
    "y_test_inversed = binarizer.inverse_transform(Ytest)"
   ]
  },
  {
   "cell_type": "code",
   "execution_count": 65,
   "metadata": {
    "colab": {
     "base_uri": "https://localhost:8080/"
    },
    "id": "LATuONlaY_KG",
    "outputId": "27bbd87f-c5db-4e63-a5fd-d599b225f28c"
   },
   "outputs": [
    {
     "name": "stdout",
     "output_type": "stream",
     "text": [
      "Text:\t  (0, 487360)\t1\n",
      "  (0, 312628)\t1\n",
      "  (0, 319058)\t1\n",
      "  (0, 450189)\t1\n",
      "  (0, 113776)\t1\n",
      "  (0, 131554)\t1\n",
      "  (0, 192891)\t1\n",
      "  (0, 564667)\t1\n",
      "  (0, 493961)\t1\n",
      "  (0, 139077)\t1\n",
      "  (0, 477858)\t1\n",
      "  (0, 205401)\t1\n",
      "  (0, 630587)\t1\n",
      "  (0, 567161)\t1\n",
      "  (0, 248962)\t1\n",
      "  (0, 229515)\t1\n",
      "  (0, 14389)\t1\n",
      "  (0, 194964)\t1\n",
      "  (0, 629626)\t1\n",
      "  (0, 192374)\t1\n",
      "  (0, 67694)\t1\n",
      "  (0, 469055)\t1\n",
      "  (0, 170072)\t1\n",
      "  (0, 256867)\t1\n",
      "  (0, 390349)\t1\n",
      "  :\t:\n",
      "  (0, 319536)\t1\n",
      "  (0, 249159)\t1\n",
      "  (0, 104173)\t1\n",
      "  (0, 170979)\t1\n",
      "  (0, 509194)\t1\n",
      "  (0, 198524)\t1\n",
      "  (0, 259130)\t1\n",
      "  (0, 333860)\t1\n",
      "  (0, 441251)\t1\n",
      "  (0, 235915)\t1\n",
      "  (0, 14682)\t1\n",
      "  (0, 191659)\t1\n",
      "  (0, 219772)\t1\n",
      "  (0, 313790)\t1\n",
      "  (0, 235649)\t1\n",
      "  (0, 118993)\t1\n",
      "  (0, 323388)\t1\n",
      "  (0, 407396)\t1\n",
      "  (0, 329643)\t1\n",
      "  (0, 630824)\t1\n",
      "  (0, 191624)\t1\n",
      "  (0, 104189)\t1\n",
      "  (0, 121166)\t1\n",
      "  (0, 459564)\t1\n",
      "  (0, 125670)\t1\n",
      "Actual labels:\t34,Sagittarius,female,indUnk\n",
      "Predicted labels:\t34,Sagittarius,female,indUnk\n",
      "\n",
      "\n",
      "Text:\t  (0, 593438)\t1\n",
      "  (0, 312628)\t1\n",
      "  (0, 319058)\t1\n",
      "  (0, 607406)\t1\n",
      "  (0, 164559)\t1\n",
      "  (0, 450189)\t1\n",
      "  (0, 192891)\t1\n",
      "  (0, 199958)\t1\n",
      "  (0, 632385)\t1\n",
      "  (0, 90309)\t1\n",
      "  (0, 14389)\t1\n",
      "  (0, 508085)\t1\n",
      "  (0, 194964)\t1\n",
      "  (0, 244614)\t1\n",
      "  (0, 102031)\t1\n",
      "  (0, 152163)\t1\n",
      "  (0, 93239)\t1\n",
      "  (0, 215891)\t1\n",
      "  (0, 372192)\t1\n",
      "  (0, 156057)\t1\n",
      "  (0, 256867)\t1\n",
      "  (0, 165143)\t1\n",
      "  (0, 271550)\t1\n",
      "  (0, 227615)\t1\n",
      "  (0, 451542)\t1\n",
      "  :\t:\n",
      "  (0, 623017)\t1\n",
      "  (0, 228115)\t1\n",
      "  (0, 251869)\t1\n",
      "  (0, 396550)\t1\n",
      "  (0, 66935)\t1\n",
      "  (0, 121695)\t1\n",
      "  (0, 35853)\t1\n",
      "  (0, 93329)\t1\n",
      "  (0, 156173)\t1\n",
      "  (0, 200213)\t1\n",
      "  (0, 496773)\t1\n",
      "  (0, 233253)\t1\n",
      "  (0, 121708)\t1\n",
      "  (0, 410455)\t1\n",
      "  (0, 164617)\t1\n",
      "  (0, 77226)\t1\n",
      "  (0, 617010)\t1\n",
      "  (0, 19822)\t1\n",
      "  (0, 531256)\t1\n",
      "  (0, 265190)\t1\n",
      "  (0, 165303)\t1\n",
      "  (0, 164677)\t1\n",
      "  (0, 44713)\t1\n",
      "  (0, 26581)\t1\n",
      "  (0, 87749)\t1\n",
      "Actual labels:\t34,Sagittarius,female,indUnk\n",
      "Predicted labels:\t34,Sagittarius,female,indUnk\n",
      "\n",
      "\n",
      "Text:\t  (0, 551296)\t1\n",
      "  (0, 593438)\t1\n",
      "  (0, 192187)\t1\n",
      "  (0, 115987)\t1\n",
      "  (0, 275407)\t1\n",
      "  (0, 203616)\t1\n",
      "  (0, 317332)\t1\n",
      "  (0, 626402)\t1\n",
      "  (0, 347072)\t1\n",
      "  (0, 56988)\t1\n",
      "  (0, 64267)\t1\n",
      "  (0, 78156)\t1\n",
      "  (0, 535315)\t1\n",
      "  (0, 347378)\t1\n",
      "  (0, 496609)\t1\n",
      "  (0, 76679)\t1\n",
      "  (0, 601793)\t1\n",
      "  (0, 350606)\t1\n",
      "  (0, 587483)\t1\n",
      "  (0, 566055)\t1\n",
      "  (0, 551345)\t1\n",
      "  (0, 255419)\t1\n",
      "  (0, 511657)\t1\n",
      "  (0, 211685)\t1\n",
      "  (0, 569482)\t1\n",
      "  (0, 587485)\t1\n",
      "  (0, 535387)\t1\n",
      "  (0, 595271)\t1\n",
      "  (0, 511658)\t1\n",
      "  (0, 76686)\t1\n",
      "  (0, 192237)\t1\n",
      "  (0, 203771)\t1\n",
      "  (0, 601796)\t1\n",
      "  (0, 626655)\t1\n",
      "  (0, 116377)\t1\n",
      "  (0, 496624)\t1\n",
      "  (0, 211686)\t1\n",
      "  (0, 255423)\t1\n",
      "  (0, 78195)\t1\n",
      "  (0, 57267)\t1\n",
      "  (0, 275694)\t1\n",
      "  (0, 566061)\t1\n",
      "  (0, 569483)\t1\n",
      "  (0, 317427)\t1\n",
      "  (0, 350611)\t1\n",
      "Actual labels:\t27,Taurus,female,indUnk\n",
      "Predicted labels:\tindUnk,male\n",
      "\n",
      "\n",
      "Text:\t  (0, 312628)\t1\n",
      "  (0, 209373)\t1\n",
      "  (0, 530614)\t1\n",
      "  (0, 52528)\t1\n",
      "  (0, 541965)\t1\n",
      "  (0, 164559)\t1\n",
      "  (0, 293921)\t1\n",
      "  (0, 111337)\t1\n",
      "  (0, 334172)\t1\n",
      "  (0, 567161)\t1\n",
      "  (0, 14389)\t1\n",
      "  (0, 326192)\t1\n",
      "  (0, 375481)\t1\n",
      "  (0, 382459)\t1\n",
      "  (0, 192374)\t1\n",
      "  (0, 102031)\t1\n",
      "  (0, 350159)\t1\n",
      "  (0, 170072)\t1\n",
      "  (0, 513546)\t1\n",
      "  (0, 109273)\t1\n",
      "  (0, 256867)\t1\n",
      "  (0, 390349)\t1\n",
      "  (0, 613476)\t1\n",
      "  (0, 323937)\t1\n",
      "  (0, 310781)\t1\n",
      "  :\t:\n",
      "  (0, 40468)\t1\n",
      "  (0, 209422)\t1\n",
      "  (0, 97024)\t1\n",
      "  (0, 470451)\t1\n",
      "  (0, 614836)\t1\n",
      "  (0, 94909)\t1\n",
      "  (0, 373012)\t1\n",
      "  (0, 373120)\t1\n",
      "  (0, 386255)\t1\n",
      "  (0, 95069)\t1\n",
      "  (0, 262610)\t1\n",
      "  (0, 442818)\t1\n",
      "  (0, 471304)\t1\n",
      "  (0, 382751)\t1\n",
      "  (0, 386292)\t1\n",
      "  (0, 542258)\t1\n",
      "  (0, 293935)\t1\n",
      "  (0, 94894)\t1\n",
      "  (0, 558205)\t1\n",
      "  (0, 94981)\t1\n",
      "  (0, 44023)\t1\n",
      "  (0, 294004)\t1\n",
      "  (0, 401065)\t1\n",
      "  (0, 164598)\t1\n",
      "  (0, 94832)\t1\n",
      "Actual labels:\t36,Aries,Fashion,male\n",
      "Predicted labels:\t36,Aries,Fashion,male\n",
      "\n",
      "\n",
      "Text:\t  (0, 593438)\t1\n",
      "  (0, 619549)\t1\n",
      "  (0, 312628)\t1\n",
      "  (0, 571892)\t1\n",
      "  (0, 607406)\t1\n",
      "  (0, 578469)\t1\n",
      "  (0, 547589)\t1\n",
      "  (0, 632385)\t1\n",
      "  (0, 597026)\t1\n",
      "  (0, 518631)\t1\n",
      "  (0, 334172)\t1\n",
      "  (0, 112858)\t1\n",
      "  (0, 10032)\t1\n",
      "  (0, 508880)\t1\n",
      "  (0, 215891)\t1\n",
      "  (0, 170072)\t1\n",
      "  (0, 487526)\t1\n",
      "  (0, 156057)\t1\n",
      "  (0, 562615)\t1\n",
      "  (0, 568960)\t1\n",
      "  (0, 390349)\t1\n",
      "  (0, 37799)\t1\n",
      "  (0, 625081)\t1\n",
      "  (0, 392677)\t1\n",
      "  (0, 310781)\t1\n",
      "  :\t:\n",
      "  (0, 235546)\t1\n",
      "  (0, 641989)\t1\n",
      "  (0, 409438)\t1\n",
      "  (0, 537663)\t1\n",
      "  (0, 76165)\t1\n",
      "  (0, 527350)\t1\n",
      "  (0, 389852)\t1\n",
      "  (0, 199484)\t1\n",
      "  (0, 605666)\t1\n",
      "  (0, 216767)\t1\n",
      "  (0, 291901)\t1\n",
      "  (0, 505316)\t1\n",
      "  (0, 484136)\t1\n",
      "  (0, 625607)\t1\n",
      "  (0, 628071)\t1\n",
      "  (0, 501200)\t1\n",
      "  (0, 531063)\t1\n",
      "  (0, 572178)\t1\n",
      "  (0, 386668)\t1\n",
      "  (0, 484109)\t1\n",
      "  (0, 199482)\t1\n",
      "  (0, 591749)\t1\n",
      "  (0, 559141)\t1\n",
      "  (0, 85766)\t1\n",
      "  (0, 559725)\t1\n",
      "Actual labels:\t33,Aquarius,InvestmentBanking,male\n",
      "Predicted labels:\t33,Aquarius,male\n",
      "\n",
      "\n"
     ]
    }
   ],
   "source": [
    "for i in range(5):\n",
    "    print('Text:\\t{}\\nActual labels:\\t{}\\nPredicted labels:\\t{}\\n\\n'.format(\n",
    "        Xtest[i],\n",
    "        ','.join(y_test_inversed[i]),\n",
    "        ','.join(Ypred_inversed[i])\n",
    "    ))"
   ]
  },
  {
   "cell_type": "markdown",
   "metadata": {
    "id": "kNrWR5GqZjqs"
   },
   "source": [
    "###We will write a function to print evalutaion metrics :"
   ]
  },
  {
   "cell_type": "code",
   "execution_count": 66,
   "metadata": {
    "id": "l_zrHtQ-ZL6O"
   },
   "outputs": [],
   "source": [
    "from sklearn.metrics import accuracy_score\n",
    "from sklearn.metrics import f1_score\n",
    "from sklearn.metrics import average_precision_score\n",
    "from sklearn.metrics import recall_score\n",
    "\n",
    "def print_evaluation_results(Ytest, Ypred):\n",
    "    print('Accuracy score : ', accuracy_score(Ytest, Ypred))\n",
    "    print('F1 score : ', f1_score(Ytest, Ypred, average='micro'))\n",
    "    print('Average Precision score : ', average_precision_score(Ytest, Ypred, average='micro'))\n",
    "    print('Average Recall score : ', recall_score(Ytest, Ypred, average='micro'))"
   ]
  },
  {
   "cell_type": "code",
   "execution_count": 68,
   "metadata": {
    "colab": {
     "base_uri": "https://localhost:8080/"
    },
    "id": "r1VwYECFZabp",
    "outputId": "2d2cda1b-6581-4d6a-ca59-9dffcd15a4f5"
   },
   "outputs": [
    {
     "name": "stdout",
     "output_type": "stream",
     "text": [
      "Accuracy score :  0.3325\n",
      "F1 score :  0.646484375\n",
      "Average Precision score :  0.4645899143448795\n",
      "Average Recall score :  0.537875\n"
     ]
    }
   ],
   "source": [
    "#We will print our evaluation results\n",
    "print_evaluation_results(Ytest, Ypred)"
   ]
  },
  {
   "cell_type": "markdown",
   "metadata": {
    "id": "URYUy-63g4I0"
   },
   "source": [
    "### Trying with Different Classifier (SVM) :"
   ]
  },
  {
   "cell_type": "code",
   "execution_count": 90,
   "metadata": {
    "id": "C4rR89dCg8FE"
   },
   "outputs": [],
   "source": [
    "from sklearn.svm import LinearSVC"
   ]
  },
  {
   "cell_type": "code",
   "execution_count": 95,
   "metadata": {
    "colab": {
     "base_uri": "https://localhost:8080/"
    },
    "id": "fpwtkysJhFdi",
    "outputId": "0d3ea368-0a9a-4a26-c225-7c3a203ec504"
   },
   "outputs": [
    {
     "data": {
      "text/plain": [
       "OneVsRestClassifier(estimator=LinearSVC(C=1.0, class_weight=None, dual=False,\n",
       "                                        fit_intercept=True, intercept_scaling=1,\n",
       "                                        loss='squared_hinge', max_iter=1000,\n",
       "                                        multi_class='ovr', penalty='l1',\n",
       "                                        random_state=None, tol=0.0001,\n",
       "                                        verbose=0),\n",
       "                    n_jobs=None)"
      ]
     },
     "execution_count": 95,
     "metadata": {
      "tags": []
     },
     "output_type": "execute_result"
    }
   ],
   "source": [
    "model = LinearSVC(penalty='l1', dual=False, loss='squared_hinge')\n",
    "model = OneVsRestClassifier(model)\n",
    "model.fit(Xtrain, Ytrain)"
   ]
  },
  {
   "cell_type": "code",
   "execution_count": null,
   "metadata": {
    "id": "kQ52wHHmiDPU"
   },
   "outputs": [],
   "source": [
    "Ypred=model.predict(Xtest)"
   ]
  },
  {
   "cell_type": "code",
   "execution_count": 98,
   "metadata": {
    "colab": {
     "base_uri": "https://localhost:8080/"
    },
    "id": "9WsM4ujhiKjb",
    "outputId": "57aa0560-642c-4dec-92ae-5af533791755"
   },
   "outputs": [
    {
     "name": "stdout",
     "output_type": "stream",
     "text": [
      "Accuracy score :  0.3355\n",
      "F1 score :  0.6699129003497702\n",
      "Average Precision score :  0.47741805481689714\n",
      "Average Recall score :  0.6105\n"
     ]
    }
   ],
   "source": [
    "print_evaluation_results(Ytest, Ypred)"
   ]
  },
  {
   "cell_type": "markdown",
   "metadata": {
    "id": "V5JB2G5pinHg"
   },
   "source": [
    "###We see that even trying with a different classifier (SVM), accuracy doesn't seem to increase much."
   ]
  },
  {
   "cell_type": "markdown",
   "metadata": {
    "id": "MB_iPYXEbXdm"
   },
   "source": [
    "###Conclusion :\n",
    "\n",
    "We have solved Multilabel classification problem that predicts multiple features from given text.\n",
    "\n",
    "Loading the data and required basic EDA and data inspection has been done\n",
    "The text has been pre processed like cleansing it (removing the unnecessary characters, removing the spaces, converting the case to lower) and also removing the stop words, vectorizing the features.\n",
    "\n",
    "Then, we splitted the cleaned dataset to train and test data in the ratio 80:20.\n",
    "\n",
    "\n",
    "Using multilable binarizers, also classifier models (Logistic Regression and SVM) are trained and the predictions are made and also the accuracy, f1 score, Avg precision and recall scores are calculated."
   ]
  },
  {
   "cell_type": "markdown",
   "metadata": {
    "id": "vTToZ5RPCc98"
   },
   "source": [
    "\n",
    "\n",
    "\n",
    "----------------------------------------------------------X-------------------------------------------------X-----------------------------------------------------------------\n",
    "\n",
    "\n",
    "\n"
   ]
  },
  {
   "cell_type": "markdown",
   "metadata": {
    "id": "5T3XrDjWCuXE"
   },
   "source": [
    "#Part 2"
   ]
  },
  {
   "cell_type": "markdown",
   "metadata": {
    "id": "MTv_Zq-4CzTJ"
   },
   "source": [
    "###CONTEXT: Great  Learning  has  a  an  academic  support  department  which  receives  numerous  support  requests  every  day  throughout  the year.  Teams  are  spread  across  geographies  and  try  to  provide  support  round  the  year.  Sometimes  there  are  circumstances  where  due  to heavy  workload  certain  request  resolutions  are  delayed,  impacting  company’s  business.  Some  of  the  requests  are  very  generic  where  a proper resolution procedure delivered to the user can solve the problem. Company is looking forward to design an automation which can interact with the user, understand the problem and display the resolution procedure [ if found as a generic request ] or redirect the request to an actual human support executive if the request is complex or not in it’s database."
   ]
  },
  {
   "cell_type": "code",
   "execution_count": 10,
   "metadata": {
    "colab": {
     "base_uri": "https://localhost:8080/"
    },
    "id": "Z4dNCA4j6cGF",
    "outputId": "73480e14-6191-4f1a-e765-483ca6e8cf32"
   },
   "outputs": [
    {
     "name": "stdout",
     "output_type": "stream",
     "text": [
      "Drive already mounted at /content/drive; to attempt to forcibly remount, call drive.mount(\"/content/drive\", force_remount=True).\n"
     ]
    }
   ],
   "source": [
    "# Mounting Google Drive\n",
    "from google.colab import drive\n",
    "drive.mount('/content/drive')"
   ]
  },
  {
   "cell_type": "markdown",
   "metadata": {
    "id": "y6LIH0VUExmR"
   },
   "source": [
    "###Import necessary packages :"
   ]
  },
  {
   "cell_type": "code",
   "execution_count": 11,
   "metadata": {
    "id": "LmL82Ssi6jPA"
   },
   "outputs": [],
   "source": [
    "import numpy as np\n",
    "from keras.models import Sequential\n",
    "from keras.layers import Dense, Activation, Dropout\n",
    "from keras.optimizers import SGD\n",
    "import random\n",
    "import nltk\n",
    "from nltk.stem import WordNetLemmatizer\n",
    "lemmatizer = WordNetLemmatizer()\n",
    "import json\n",
    "import pickle\n",
    "intents_file = open('/content/drive/MyDrive/NLP/GL Bot.json').read()\n",
    "intents = json.loads(intents_file)"
   ]
  },
  {
   "cell_type": "markdown",
   "metadata": {
    "id": "Gz6CWN3tE-CC"
   },
   "source": [
    "###Now we use NLTK library :"
   ]
  },
  {
   "cell_type": "code",
   "execution_count": 13,
   "metadata": {
    "colab": {
     "base_uri": "https://localhost:8080/"
    },
    "id": "4fX-hhhO6t2m",
    "outputId": "11f39508-18ff-4211-bba8-aa0a83c7d26d"
   },
   "outputs": [
    {
     "name": "stdout",
     "output_type": "stream",
     "text": [
      "[nltk_data] Downloading package punkt to /root/nltk_data...\n",
      "[nltk_data]   Package punkt is already up-to-date!\n",
      "[(['hi'], 'Intro'), (['how', 'are', 'you'], 'Intro'), (['is', 'anyone', 'there'], 'Intro'), (['hello'], 'Intro'), (['whats', 'up'], 'Intro'), (['hey'], 'Intro'), (['yo'], 'Intro'), (['listen'], 'Intro'), (['please', 'help', 'me'], 'Intro'), (['i', 'am', 'learner', 'from'], 'Intro'), (['i', 'belong', 'to'], 'Intro'), (['aiml', 'batch'], 'Intro'), (['aifl', 'batch'], 'Intro'), (['i', 'am', 'from'], 'Intro'), (['my', 'pm', 'is'], 'Intro'), (['blended'], 'Intro'), (['online'], 'Intro'), (['i', 'am', 'from'], 'Intro'), (['hey', 'ya'], 'Intro'), (['talking', 'to', 'you', 'for', 'first', 'time'], 'Intro'), (['thank', 'you'], 'Exit'), (['thanks'], 'Exit'), (['cya'], 'Exit'), (['see', 'you'], 'Exit'), (['later'], 'Exit'), (['see', 'you', 'later'], 'Exit'), (['goodbye'], 'Exit'), (['i', 'am', 'leaving'], 'Exit'), (['have', 'a', 'Good', 'day'], 'Exit'), (['you', 'helped', 'me'], 'Exit'), (['thanks', 'a', 'lot'], 'Exit'), (['thanks', 'a', 'ton'], 'Exit'), (['you', 'are', 'the', 'best'], 'Exit'), (['great', 'help'], 'Exit'), (['too', 'good'], 'Exit'), (['you', 'are', 'a', 'good', 'learning', 'buddy'], 'Exit'), (['olympus'], 'Olympus'), (['explain', 'me', 'how', 'olympus', 'works'], 'Olympus'), (['I', 'am', 'not', 'able', 'to', 'understand', 'olympus'], 'Olympus'), (['olympus', 'window', 'not', 'working'], 'Olympus'), (['no', 'access', 'to', 'olympus'], 'Olympus'), (['unable', 'to', 'see', 'link', 'in', 'olympus'], 'Olympus'), (['no', 'link', 'visible', 'on', 'olympus'], 'Olympus'), (['whom', 'to', 'contact', 'for', 'olympus'], 'Olympus'), (['lot', 'of', 'problem', 'with', 'olympus'], 'Olympus'), (['olypus', 'is', 'not', 'a', 'good', 'tool'], 'Olympus'), (['lot', 'of', 'problems', 'with', 'olympus'], 'Olympus'), (['how', 'to', 'use', 'olympus'], 'Olympus'), (['teach', 'me', 'olympus'], 'Olympus'), (['i', 'am', 'not', 'able', 'to', 'understand', 'svm'], 'SL'), (['explain', 'me', 'how', 'machine', 'learning', 'works'], 'SL'), (['i', 'am', 'not', 'able', 'to', 'understand', 'naive', 'bayes'], 'SL'), (['i', 'am', 'not', 'able', 'to', 'understand', 'logistic', 'regression'], 'SL'), (['i', 'am', 'not', 'able', 'to', 'understand', 'ensemble', 'techb=niques'], 'SL'), (['i', 'am', 'not', 'able', 'to', 'understand', 'knn'], 'SL'), (['i', 'am', 'not', 'able', 'to', 'understand', 'knn', 'imputer'], 'SL'), (['i', 'am', 'not', 'able', 'to', 'understand', 'cross', 'validation'], 'SL'), (['i', 'am', 'not', 'able', 'to', 'understand', 'boosting'], 'SL'), (['i', 'am', 'not', 'able', 'to', 'understand', 'random', 'forest'], 'SL'), (['i', 'am', 'not', 'able', 'to', 'understand', 'ada', 'boosting'], 'SL'), (['i', 'am', 'not', 'able', 'to', 'understand', 'gradient', 'boosting'], 'SL'), (['machine', 'learning'], 'SL'), (['ML'], 'SL'), (['SL'], 'SL'), (['supervised', 'learning'], 'SL'), (['knn'], 'SL'), (['logistic', 'regression'], 'SL'), (['regression'], 'SL'), (['classification'], 'SL'), (['naive', 'bayes'], 'SL'), (['nb'], 'SL'), (['ensemble', 'techniques'], 'SL'), (['bagging'], 'SL'), (['boosting'], 'SL'), (['ada', 'boosting'], 'SL'), (['ada'], 'SL'), (['gradient', 'boosting'], 'SL'), (['hyper', 'parameters'], 'SL'), (['what', 'is', 'deep', 'learning'], 'NN'), (['unable', 'to', 'understand', 'deep', 'learning'], 'NN'), (['explain', 'me', 'how', 'deep', 'learning', 'works'], 'NN'), (['i', 'am', 'not', 'able', 'to', 'understand', 'deep', 'learning'], 'NN'), (['not', 'able', 'to', 'understand', 'neural', 'nets'], 'NN'), (['very', 'diffult', 'to', 'understand', 'neural', 'nets'], 'NN'), (['unable', 'to', 'understand', 'neural', 'nets'], 'NN'), (['ann'], 'NN'), (['artificial', 'intelligence'], 'NN'), (['artificial', 'neural', 'networks'], 'NN'), (['weights'], 'NN'), (['activation', 'function'], 'NN'), (['hidden', 'layers'], 'NN'), (['softmax'], 'NN'), (['sigmoid'], 'NN'), (['relu'], 'NN'), (['otimizer'], 'NN'), (['forward', 'propagation'], 'NN'), (['backward', 'propagation'], 'NN'), (['epochs'], 'NN'), (['epoch'], 'NN'), (['what', 'is', 'an', 'epoch'], 'NN'), (['adam'], 'NN'), (['sgd'], 'NN'), (['what', 'is', 'your', 'name'], 'Bot'), (['who', 'are', 'you'], 'Bot'), (['name', 'please'], 'Bot'), (['when', 'are', 'your', 'hours', 'of', 'opertions'], 'Bot'), (['what', 'are', 'your', 'working', 'hours'], 'Bot'), (['hours', 'of', 'operation'], 'Bot'), (['working', 'hours'], 'Bot'), (['hours'], 'Bot'), (['what', 'the', 'hell'], 'Profane'), (['bloody', 'stupid', 'bot'], 'Profane'), (['do', 'you', 'think', 'you', 'are', 'very', 'smart'], 'Profane'), (['screw', 'you'], 'Profane'), (['i', 'hate', 'you'], 'Profane'), (['you', 'are', 'stupid'], 'Profane'), (['jerk'], 'Profane'), (['you', 'are', 'a', 'joke'], 'Profane'), (['useless', 'piece', 'of', 'shit'], 'Profane'), (['my', 'problem', 'is', 'not', 'solved'], 'Ticket'), (['you', 'did', 'not', 'help', 'me'], 'Ticket'), (['not', 'a', 'good', 'solution'], 'Ticket'), (['bad', 'solution'], 'Ticket'), (['not', 'good', 'solution'], 'Ticket'), (['no', 'help'], 'Ticket'), (['wasted', 'my', 'time'], 'Ticket'), (['useless', 'bot'], 'Ticket'), (['create', 'a', 'ticket'], 'Ticket')]\n"
     ]
    }
   ],
   "source": [
    "nltk.download('punkt')\n",
    "words=[]\n",
    "classes = []\n",
    "documents = []\n",
    "ignore_letters = ['!', '?', ',', '.']\n",
    "for intent in intents['intents']:\n",
    "    for pattern in intent['patterns']:\n",
    "        \n",
    "        #tokenize each word\n",
    "        word = nltk.word_tokenize(pattern)\n",
    "        words.extend(word)\n",
    "        \n",
    "        #add documents in the corpus\n",
    "        documents.append((word, intent['tag']))\n",
    "        \n",
    "        # add to our classes list\n",
    "        if intent['tag'] not in classes:\n",
    "            classes.append(intent['tag'])\n",
    "print(documents)"
   ]
  },
  {
   "cell_type": "code",
   "execution_count": 14,
   "metadata": {
    "colab": {
     "base_uri": "https://localhost:8080/"
    },
    "id": "1zWMY82F6t6d",
    "outputId": "2736cff9-8edc-4161-e4a2-1fad8801115d"
   },
   "outputs": [
    {
     "name": "stdout",
     "output_type": "stream",
     "text": [
      "[nltk_data] Downloading package wordnet to /root/nltk_data...\n",
      "[nltk_data]   Unzipping corpora/wordnet.zip.\n",
      "128 documents\n",
      "8 classes ['Bot', 'Exit', 'Intro', 'NN', 'Olympus', 'Profane', 'SL', 'Ticket']\n",
      "158 unique lemmatized words ['a', 'able', 'access', 'activation', 'ada', 'adam', 'aifl', 'aiml', 'am', 'an', 'ann', 'anyone', 'are', 'artificial', 'backward', 'bad', 'bagging', 'batch', 'bayes', 'belong', 'best', 'blended', 'bloody', 'boosting', 'bot', 'buddy', 'classification', 'contact', 'create', 'cross', 'cya', 'day', 'deep', 'did', 'diffult', 'do', 'ensemble', 'epoch', 'explain', 'first', 'for', 'forest', 'forward', 'from', 'function', 'good', 'goodbye', 'gradient', 'great', 'hate', 'have', 'hell', 'hello', 'help', 'helped', 'hey', 'hi', 'hidden', 'hour', 'how', 'hyper', 'i', 'imputer', 'in', 'intelligence', 'is', 'jerk', 'joke', 'knn', 'later', 'layer', 'learner', 'learning', 'leaving', 'link', 'listen', 'logistic', 'lot', 'machine', 'me', 'ml', 'my', 'naive', 'name', 'nb', 'net', 'network', 'neural', 'no', 'not', 'of', 'olympus', 'olypus', 'on', 'online', 'operation', 'opertions', 'otimizer', 'parameter', 'piece', 'please', 'pm', 'problem', 'propagation', 'random', 'regression', 'relu', 'screw', 'see', 'sgd', 'shit', 'sigmoid', 'sl', 'smart', 'softmax', 'solution', 'solved', 'stupid', 'supervised', 'svm', 'talking', 'teach', 'techb=niques', 'technique', 'thank', 'thanks', 'the', 'there', 'think', 'ticket', 'time', 'to', 'ton', 'too', 'tool', 'unable', 'understand', 'up', 'use', 'useless', 'validation', 'very', 'visible', 'wasted', 'weight', 'what', 'whats', 'when', 'who', 'whom', 'window', 'with', 'work', 'working', 'ya', 'yo', 'you', 'your']\n"
     ]
    }
   ],
   "source": [
    "nltk.download('wordnet')\n",
    "\n",
    "# lemmaztize and lower each word and remove duplicates\n",
    "words = [lemmatizer.lemmatize(w.lower()) for w in words if w not in ignore_letters]\n",
    "words = sorted(list(set(words)))\n",
    "\n",
    "# sort classes\n",
    "classes = sorted(list(set(classes)))\n",
    "\n",
    "# documents = combination between patterns and intents\n",
    "print (len(documents), \"documents\")\n",
    "\n",
    "# classes = intents\n",
    "print (len(classes), \"classes\", classes)\n",
    "\n",
    "# words = all words, vocabulary\n",
    "print (len(words), \"unique lemmatized words\", words)"
   ]
  },
  {
   "cell_type": "markdown",
   "metadata": {
    "id": "jJEfs57yFLjk"
   },
   "source": [
    "###Creating Training Dataset : "
   ]
  },
  {
   "cell_type": "code",
   "execution_count": 16,
   "metadata": {
    "id": "n746ZSw16t-j"
   },
   "outputs": [],
   "source": [
    "training = []\n",
    "# create empty array for the output\n",
    "output_empty = [0] * len(classes)\n",
    "\n",
    "# training set, bag of words for every sentence\n",
    "for doc in documents:\n",
    "    bag = []\n",
    "    word_patterns = doc[0]\n",
    "    \n",
    "    # lemmatize each word - create base word, in attempt to represent related words\n",
    "    word_patterns = [lemmatizer.lemmatize(word.lower()) for word in word_patterns]\n",
    "    \n",
    "    # create the bag of words array with 1, if word is found in current pattern\n",
    "    for word in words:\n",
    "        bag.append(1) if word in word_patterns else bag.append(0)\n",
    "    \n",
    "    # output is a '0' for each tag and '1' for current tag (for each pattern)\n",
    "    output_row = list(output_empty)\n",
    "    output_row[classes.index(doc[1])] = 1\n",
    "    training.append([bag, output_row])\n",
    "\n",
    "# shuffle the features and make numpy array\n",
    "random.shuffle(training)\n",
    "training = np.array(training)\n",
    "\n",
    "# create training and testing lists. X - patterns, Y - intents\n",
    "train_x = list(training[:,0])\n",
    "train_y = list(training[:,1])"
   ]
  },
  {
   "cell_type": "markdown",
   "metadata": {
    "id": "Tn_rpbZAFpy5"
   },
   "source": [
    "###Now we define our Neural Netweok Model : "
   ]
  },
  {
   "cell_type": "code",
   "execution_count": 17,
   "metadata": {
    "colab": {
     "base_uri": "https://localhost:8080/"
    },
    "id": "2eKn-uCU6uDi",
    "outputId": "20f6fddb-a87e-421c-ab49-6bd9bf9eb2d4"
   },
   "outputs": [
    {
     "name": "stdout",
     "output_type": "stream",
     "text": [
      "Epoch 1/200\n",
      "26/26 [==============================] - 1s 1ms/step - loss: 2.1099 - accuracy: 0.1557 \n",
      "Epoch 2/200\n",
      "26/26 [==============================] - 0s 1ms/step - loss: 1.9484 - accuracy: 0.2812\n",
      "Epoch 3/200\n",
      "26/26 [==============================] - 0s 1ms/step - loss: 1.8105 - accuracy: 0.2551\n",
      "Epoch 4/200\n",
      "26/26 [==============================] - 0s 1ms/step - loss: 1.7579 - accuracy: 0.3793\n",
      "Epoch 5/200\n",
      "26/26 [==============================] - 0s 1ms/step - loss: 1.6766 - accuracy: 0.3407\n",
      "Epoch 6/200\n",
      "26/26 [==============================] - 0s 1ms/step - loss: 1.5863 - accuracy: 0.4128\n",
      "Epoch 7/200\n",
      "26/26 [==============================] - 0s 2ms/step - loss: 1.5571 - accuracy: 0.3426\n",
      "Epoch 8/200\n",
      "26/26 [==============================] - 0s 1ms/step - loss: 1.3485 - accuracy: 0.5964\n",
      "Epoch 9/200\n",
      "26/26 [==============================] - 0s 1ms/step - loss: 1.1322 - accuracy: 0.6371\n",
      "Epoch 10/200\n",
      "26/26 [==============================] - 0s 2ms/step - loss: 1.2416 - accuracy: 0.5364\n",
      "Epoch 11/200\n",
      "26/26 [==============================] - 0s 1ms/step - loss: 1.1716 - accuracy: 0.6289\n",
      "Epoch 12/200\n",
      "26/26 [==============================] - 0s 2ms/step - loss: 0.8768 - accuracy: 0.6685\n",
      "Epoch 13/200\n",
      "26/26 [==============================] - 0s 1ms/step - loss: 0.7275 - accuracy: 0.7831\n",
      "Epoch 14/200\n",
      "26/26 [==============================] - 0s 2ms/step - loss: 0.5642 - accuracy: 0.8635\n",
      "Epoch 15/200\n",
      "26/26 [==============================] - 0s 2ms/step - loss: 0.8129 - accuracy: 0.7442\n",
      "Epoch 16/200\n",
      "26/26 [==============================] - 0s 1ms/step - loss: 0.6337 - accuracy: 0.8334\n",
      "Epoch 17/200\n",
      "26/26 [==============================] - 0s 1ms/step - loss: 0.5559 - accuracy: 0.8228\n",
      "Epoch 18/200\n",
      "26/26 [==============================] - 0s 1ms/step - loss: 0.4673 - accuracy: 0.8713\n",
      "Epoch 19/200\n",
      "26/26 [==============================] - 0s 1ms/step - loss: 0.4910 - accuracy: 0.8532\n",
      "Epoch 20/200\n",
      "26/26 [==============================] - 0s 1ms/step - loss: 0.3418 - accuracy: 0.8836\n",
      "Epoch 21/200\n",
      "26/26 [==============================] - 0s 1ms/step - loss: 0.3717 - accuracy: 0.8720\n",
      "Epoch 22/200\n",
      "26/26 [==============================] - 0s 1ms/step - loss: 0.2587 - accuracy: 0.9306\n",
      "Epoch 23/200\n",
      "26/26 [==============================] - 0s 1ms/step - loss: 0.2447 - accuracy: 0.9687\n",
      "Epoch 24/200\n",
      "26/26 [==============================] - 0s 1ms/step - loss: 0.2388 - accuracy: 0.9738\n",
      "Epoch 25/200\n",
      "26/26 [==============================] - 0s 1ms/step - loss: 0.3345 - accuracy: 0.9128\n",
      "Epoch 26/200\n",
      "26/26 [==============================] - 0s 1ms/step - loss: 0.2345 - accuracy: 0.9497\n",
      "Epoch 27/200\n",
      "26/26 [==============================] - 0s 1ms/step - loss: 0.1767 - accuracy: 0.9779\n",
      "Epoch 28/200\n",
      "26/26 [==============================] - 0s 1ms/step - loss: 0.2734 - accuracy: 0.9177\n",
      "Epoch 29/200\n",
      "26/26 [==============================] - 0s 1ms/step - loss: 0.1362 - accuracy: 0.9471\n",
      "Epoch 30/200\n",
      "26/26 [==============================] - 0s 1ms/step - loss: 0.1846 - accuracy: 0.9294\n",
      "Epoch 31/200\n",
      "26/26 [==============================] - 0s 1ms/step - loss: 0.1848 - accuracy: 0.9278\n",
      "Epoch 32/200\n",
      "26/26 [==============================] - 0s 1ms/step - loss: 0.1436 - accuracy: 0.9729\n",
      "Epoch 33/200\n",
      "26/26 [==============================] - 0s 2ms/step - loss: 0.2054 - accuracy: 0.9308\n",
      "Epoch 34/200\n",
      "26/26 [==============================] - 0s 1ms/step - loss: 0.1269 - accuracy: 0.9949\n",
      "Epoch 35/200\n",
      "26/26 [==============================] - 0s 1ms/step - loss: 0.1619 - accuracy: 0.9912\n",
      "Epoch 36/200\n",
      "26/26 [==============================] - 0s 1ms/step - loss: 0.0923 - accuracy: 0.9970\n",
      "Epoch 37/200\n",
      "26/26 [==============================] - 0s 1ms/step - loss: 0.1084 - accuracy: 0.9887\n",
      "Epoch 38/200\n",
      "26/26 [==============================] - 0s 2ms/step - loss: 0.0988 - accuracy: 0.9982\n",
      "Epoch 39/200\n",
      "26/26 [==============================] - 0s 1ms/step - loss: 0.1038 - accuracy: 0.9681\n",
      "Epoch 40/200\n",
      "26/26 [==============================] - 0s 1ms/step - loss: 0.1061 - accuracy: 0.9994\n",
      "Epoch 41/200\n",
      "26/26 [==============================] - 0s 2ms/step - loss: 0.0976 - accuracy: 0.9744\n",
      "Epoch 42/200\n",
      "26/26 [==============================] - 0s 1ms/step - loss: 0.0761 - accuracy: 0.9942\n",
      "Epoch 43/200\n",
      "26/26 [==============================] - 0s 1ms/step - loss: 0.1207 - accuracy: 0.9418\n",
      "Epoch 44/200\n",
      "26/26 [==============================] - 0s 1ms/step - loss: 0.0916 - accuracy: 0.9690\n",
      "Epoch 45/200\n",
      "26/26 [==============================] - 0s 1ms/step - loss: 0.0337 - accuracy: 1.0000\n",
      "Epoch 46/200\n",
      "26/26 [==============================] - 0s 1ms/step - loss: 0.0814 - accuracy: 0.9784\n",
      "Epoch 47/200\n",
      "26/26 [==============================] - 0s 1ms/step - loss: 0.1139 - accuracy: 0.9614\n",
      "Epoch 48/200\n",
      "26/26 [==============================] - 0s 1ms/step - loss: 0.0797 - accuracy: 0.9913\n",
      "Epoch 49/200\n",
      "26/26 [==============================] - 0s 1ms/step - loss: 0.0526 - accuracy: 0.9905\n",
      "Epoch 50/200\n",
      "26/26 [==============================] - 0s 2ms/step - loss: 0.0407 - accuracy: 0.9881\n",
      "Epoch 51/200\n",
      "26/26 [==============================] - 0s 1ms/step - loss: 0.0699 - accuracy: 1.0000\n",
      "Epoch 52/200\n",
      "26/26 [==============================] - 0s 2ms/step - loss: 0.0476 - accuracy: 0.9889\n",
      "Epoch 53/200\n",
      "26/26 [==============================] - 0s 1ms/step - loss: 0.1336 - accuracy: 0.9536\n",
      "Epoch 54/200\n",
      "26/26 [==============================] - 0s 2ms/step - loss: 0.0721 - accuracy: 0.9881\n",
      "Epoch 55/200\n",
      "26/26 [==============================] - 0s 2ms/step - loss: 0.0613 - accuracy: 0.9786\n",
      "Epoch 56/200\n",
      "26/26 [==============================] - 0s 2ms/step - loss: 0.0409 - accuracy: 0.9814\n",
      "Epoch 57/200\n",
      "26/26 [==============================] - 0s 2ms/step - loss: 0.0337 - accuracy: 1.0000\n",
      "Epoch 58/200\n",
      "26/26 [==============================] - 0s 1ms/step - loss: 0.0484 - accuracy: 0.9988\n",
      "Epoch 59/200\n",
      "26/26 [==============================] - 0s 1ms/step - loss: 0.1171 - accuracy: 0.9840\n",
      "Epoch 60/200\n",
      "26/26 [==============================] - 0s 1ms/step - loss: 0.0879 - accuracy: 0.9695\n",
      "Epoch 61/200\n",
      "26/26 [==============================] - 0s 1ms/step - loss: 0.0358 - accuracy: 0.9941\n",
      "Epoch 62/200\n",
      "26/26 [==============================] - 0s 2ms/step - loss: 0.0412 - accuracy: 1.0000\n",
      "Epoch 63/200\n",
      "26/26 [==============================] - 0s 2ms/step - loss: 0.0603 - accuracy: 0.9866\n",
      "Epoch 64/200\n",
      "26/26 [==============================] - 0s 1ms/step - loss: 0.0731 - accuracy: 1.0000\n",
      "Epoch 65/200\n",
      "26/26 [==============================] - 0s 1ms/step - loss: 0.0323 - accuracy: 0.9985\n",
      "Epoch 66/200\n",
      "26/26 [==============================] - 0s 2ms/step - loss: 0.0609 - accuracy: 0.9825\n",
      "Epoch 67/200\n",
      "26/26 [==============================] - 0s 2ms/step - loss: 0.0344 - accuracy: 0.9957\n",
      "Epoch 68/200\n",
      "26/26 [==============================] - 0s 2ms/step - loss: 0.0398 - accuracy: 0.9947\n",
      "Epoch 69/200\n",
      "26/26 [==============================] - 0s 1ms/step - loss: 0.0379 - accuracy: 1.0000\n",
      "Epoch 70/200\n",
      "26/26 [==============================] - 0s 2ms/step - loss: 0.0284 - accuracy: 0.9958\n",
      "Epoch 71/200\n",
      "26/26 [==============================] - 0s 2ms/step - loss: 0.1047 - accuracy: 0.9496\n",
      "Epoch 72/200\n",
      "26/26 [==============================] - 0s 1ms/step - loss: 0.0303 - accuracy: 1.0000\n",
      "Epoch 73/200\n",
      "26/26 [==============================] - 0s 1ms/step - loss: 0.0223 - accuracy: 1.0000\n",
      "Epoch 74/200\n",
      "26/26 [==============================] - 0s 2ms/step - loss: 0.0571 - accuracy: 0.9962\n",
      "Epoch 75/200\n",
      "26/26 [==============================] - 0s 2ms/step - loss: 0.0258 - accuracy: 0.9988\n",
      "Epoch 76/200\n",
      "26/26 [==============================] - 0s 1ms/step - loss: 0.0294 - accuracy: 1.0000\n",
      "Epoch 77/200\n",
      "26/26 [==============================] - 0s 1ms/step - loss: 0.0236 - accuracy: 1.0000\n",
      "Epoch 78/200\n",
      "26/26 [==============================] - 0s 1ms/step - loss: 0.0305 - accuracy: 1.0000\n",
      "Epoch 79/200\n",
      "26/26 [==============================] - 0s 1ms/step - loss: 0.0345 - accuracy: 0.9947\n",
      "Epoch 80/200\n",
      "26/26 [==============================] - 0s 1ms/step - loss: 0.0158 - accuracy: 1.0000\n",
      "Epoch 81/200\n",
      "26/26 [==============================] - 0s 2ms/step - loss: 0.0159 - accuracy: 1.0000\n",
      "Epoch 82/200\n",
      "26/26 [==============================] - 0s 1ms/step - loss: 0.0090 - accuracy: 0.9991\n",
      "Epoch 83/200\n",
      "26/26 [==============================] - 0s 1ms/step - loss: 0.0271 - accuracy: 1.0000\n",
      "Epoch 84/200\n",
      "26/26 [==============================] - 0s 2ms/step - loss: 0.0290 - accuracy: 0.9974\n",
      "Epoch 85/200\n",
      "26/26 [==============================] - 0s 2ms/step - loss: 0.0258 - accuracy: 0.9929\n",
      "Epoch 86/200\n",
      "26/26 [==============================] - 0s 2ms/step - loss: 0.0324 - accuracy: 0.9910\n",
      "Epoch 87/200\n",
      "26/26 [==============================] - 0s 2ms/step - loss: 0.0246 - accuracy: 1.0000\n",
      "Epoch 88/200\n",
      "26/26 [==============================] - 0s 1ms/step - loss: 0.0197 - accuracy: 1.0000\n",
      "Epoch 89/200\n",
      "26/26 [==============================] - 0s 2ms/step - loss: 0.0299 - accuracy: 0.9893\n",
      "Epoch 90/200\n",
      "26/26 [==============================] - 0s 1ms/step - loss: 0.0086 - accuracy: 1.0000\n",
      "Epoch 91/200\n",
      "26/26 [==============================] - 0s 2ms/step - loss: 0.0196 - accuracy: 0.9966\n",
      "Epoch 92/200\n",
      "26/26 [==============================] - 0s 2ms/step - loss: 0.1043 - accuracy: 0.9519\n",
      "Epoch 93/200\n",
      "26/26 [==============================] - 0s 1ms/step - loss: 0.0200 - accuracy: 1.0000\n",
      "Epoch 94/200\n",
      "26/26 [==============================] - 0s 1ms/step - loss: 0.0219 - accuracy: 0.9941\n",
      "Epoch 95/200\n",
      "26/26 [==============================] - 0s 1ms/step - loss: 0.0197 - accuracy: 0.9957\n",
      "Epoch 96/200\n",
      "26/26 [==============================] - 0s 2ms/step - loss: 0.0498 - accuracy: 0.9904\n",
      "Epoch 97/200\n",
      "26/26 [==============================] - 0s 1ms/step - loss: 0.0235 - accuracy: 1.0000\n",
      "Epoch 98/200\n",
      "26/26 [==============================] - 0s 1ms/step - loss: 0.0294 - accuracy: 0.9957\n",
      "Epoch 99/200\n",
      "26/26 [==============================] - 0s 1ms/step - loss: 0.0614 - accuracy: 0.9894\n",
      "Epoch 100/200\n",
      "26/26 [==============================] - 0s 2ms/step - loss: 0.0187 - accuracy: 1.0000\n",
      "Epoch 101/200\n",
      "26/26 [==============================] - 0s 2ms/step - loss: 0.0174 - accuracy: 0.9978\n",
      "Epoch 102/200\n",
      "26/26 [==============================] - 0s 2ms/step - loss: 0.0203 - accuracy: 0.9893\n",
      "Epoch 103/200\n",
      "26/26 [==============================] - 0s 2ms/step - loss: 0.0194 - accuracy: 0.9935\n",
      "Epoch 104/200\n",
      "26/26 [==============================] - 0s 1ms/step - loss: 0.0321 - accuracy: 1.0000\n",
      "Epoch 105/200\n",
      "26/26 [==============================] - 0s 1ms/step - loss: 0.0333 - accuracy: 1.0000\n",
      "Epoch 106/200\n",
      "26/26 [==============================] - 0s 2ms/step - loss: 0.0237 - accuracy: 1.0000\n",
      "Epoch 107/200\n",
      "26/26 [==============================] - 0s 1ms/step - loss: 0.0138 - accuracy: 1.0000\n",
      "Epoch 108/200\n",
      "26/26 [==============================] - 0s 1ms/step - loss: 0.0270 - accuracy: 0.9894\n",
      "Epoch 109/200\n",
      "26/26 [==============================] - 0s 2ms/step - loss: 0.0536 - accuracy: 0.9786\n",
      "Epoch 110/200\n",
      "26/26 [==============================] - 0s 2ms/step - loss: 0.0101 - accuracy: 0.9962\n",
      "Epoch 111/200\n",
      "26/26 [==============================] - 0s 1ms/step - loss: 0.0290 - accuracy: 0.9866\n",
      "Epoch 112/200\n",
      "26/26 [==============================] - 0s 2ms/step - loss: 0.0269 - accuracy: 0.9893\n",
      "Epoch 113/200\n",
      "26/26 [==============================] - 0s 1ms/step - loss: 0.0129 - accuracy: 1.0000\n",
      "Epoch 114/200\n",
      "26/26 [==============================] - 0s 2ms/step - loss: 0.0482 - accuracy: 1.0000\n",
      "Epoch 115/200\n",
      "26/26 [==============================] - 0s 1ms/step - loss: 0.0149 - accuracy: 1.0000\n",
      "Epoch 116/200\n",
      "26/26 [==============================] - 0s 1ms/step - loss: 0.0102 - accuracy: 0.9988\n",
      "Epoch 117/200\n",
      "26/26 [==============================] - 0s 1ms/step - loss: 0.0061 - accuracy: 1.0000\n",
      "Epoch 118/200\n",
      "26/26 [==============================] - 0s 2ms/step - loss: 0.0134 - accuracy: 1.0000\n",
      "Epoch 119/200\n",
      "26/26 [==============================] - 0s 1ms/step - loss: 0.0062 - accuracy: 1.0000\n",
      "Epoch 120/200\n",
      "26/26 [==============================] - 0s 1ms/step - loss: 0.0137 - accuracy: 1.0000\n",
      "Epoch 121/200\n",
      "26/26 [==============================] - 0s 1ms/step - loss: 0.0315 - accuracy: 0.9904\n",
      "Epoch 122/200\n",
      "26/26 [==============================] - 0s 1ms/step - loss: 0.0417 - accuracy: 0.9823\n",
      "Epoch 123/200\n",
      "26/26 [==============================] - 0s 2ms/step - loss: 0.0183 - accuracy: 1.0000\n",
      "Epoch 124/200\n",
      "26/26 [==============================] - 0s 1ms/step - loss: 0.0056 - accuracy: 1.0000\n",
      "Epoch 125/200\n",
      "26/26 [==============================] - 0s 1ms/step - loss: 0.0074 - accuracy: 1.0000\n",
      "Epoch 126/200\n",
      "26/26 [==============================] - 0s 2ms/step - loss: 0.0308 - accuracy: 0.9847\n",
      "Epoch 127/200\n",
      "26/26 [==============================] - 0s 1ms/step - loss: 0.0098 - accuracy: 1.0000\n",
      "Epoch 128/200\n",
      "26/26 [==============================] - 0s 2ms/step - loss: 0.0753 - accuracy: 0.9674\n",
      "Epoch 129/200\n",
      "26/26 [==============================] - 0s 2ms/step - loss: 0.0157 - accuracy: 0.9935\n",
      "Epoch 130/200\n",
      "26/26 [==============================] - 0s 1ms/step - loss: 0.0525 - accuracy: 0.9786\n",
      "Epoch 131/200\n",
      "26/26 [==============================] - 0s 1ms/step - loss: 0.0125 - accuracy: 1.0000\n",
      "Epoch 132/200\n",
      "26/26 [==============================] - 0s 1ms/step - loss: 0.0101 - accuracy: 1.0000\n",
      "Epoch 133/200\n",
      "26/26 [==============================] - 0s 1ms/step - loss: 0.0135 - accuracy: 0.9941\n",
      "Epoch 134/200\n",
      "26/26 [==============================] - 0s 2ms/step - loss: 0.0469 - accuracy: 0.9847\n",
      "Epoch 135/200\n",
      "26/26 [==============================] - 0s 1ms/step - loss: 0.0152 - accuracy: 0.9978\n",
      "Epoch 136/200\n",
      "26/26 [==============================] - 0s 1ms/step - loss: 0.0093 - accuracy: 1.0000\n",
      "Epoch 137/200\n",
      "26/26 [==============================] - 0s 1ms/step - loss: 0.0743 - accuracy: 0.9703\n",
      "Epoch 138/200\n",
      "26/26 [==============================] - 0s 2ms/step - loss: 0.0410 - accuracy: 0.9866\n",
      "Epoch 139/200\n",
      "26/26 [==============================] - 0s 2ms/step - loss: 0.0078 - accuracy: 1.0000\n",
      "Epoch 140/200\n",
      "26/26 [==============================] - 0s 1ms/step - loss: 0.0164 - accuracy: 1.0000\n",
      "Epoch 141/200\n",
      "26/26 [==============================] - 0s 2ms/step - loss: 0.0062 - accuracy: 1.0000\n",
      "Epoch 142/200\n",
      "26/26 [==============================] - 0s 2ms/step - loss: 0.0296 - accuracy: 1.0000\n",
      "Epoch 143/200\n",
      "26/26 [==============================] - 0s 1ms/step - loss: 0.0206 - accuracy: 0.9952\n",
      "Epoch 144/200\n",
      "26/26 [==============================] - 0s 2ms/step - loss: 0.0120 - accuracy: 1.0000\n",
      "Epoch 145/200\n",
      "26/26 [==============================] - 0s 1ms/step - loss: 0.0134 - accuracy: 1.0000\n",
      "Epoch 146/200\n",
      "26/26 [==============================] - 0s 2ms/step - loss: 0.0136 - accuracy: 1.0000\n",
      "Epoch 147/200\n",
      "26/26 [==============================] - 0s 3ms/step - loss: 0.0189 - accuracy: 1.0000\n",
      "Epoch 148/200\n",
      "26/26 [==============================] - 0s 2ms/step - loss: 0.0088 - accuracy: 1.0000\n",
      "Epoch 149/200\n",
      "26/26 [==============================] - 0s 1ms/step - loss: 0.0238 - accuracy: 1.0000\n",
      "Epoch 150/200\n",
      "26/26 [==============================] - 0s 1ms/step - loss: 0.0122 - accuracy: 1.0000\n",
      "Epoch 151/200\n",
      "26/26 [==============================] - 0s 1ms/step - loss: 0.0035 - accuracy: 1.0000\n",
      "Epoch 152/200\n",
      "26/26 [==============================] - 0s 1ms/step - loss: 0.0116 - accuracy: 0.9947\n",
      "Epoch 153/200\n",
      "26/26 [==============================] - 0s 2ms/step - loss: 0.0081 - accuracy: 1.0000\n",
      "Epoch 154/200\n",
      "26/26 [==============================] - 0s 1ms/step - loss: 0.0055 - accuracy: 1.0000\n",
      "Epoch 155/200\n",
      "26/26 [==============================] - 0s 1ms/step - loss: 0.0049 - accuracy: 1.0000\n",
      "Epoch 156/200\n",
      "26/26 [==============================] - 0s 1ms/step - loss: 0.0066 - accuracy: 1.0000\n",
      "Epoch 157/200\n",
      "26/26 [==============================] - 0s 1ms/step - loss: 0.0119 - accuracy: 1.0000\n",
      "Epoch 158/200\n",
      "26/26 [==============================] - 0s 1ms/step - loss: 0.0062 - accuracy: 1.0000\n",
      "Epoch 159/200\n",
      "26/26 [==============================] - 0s 1ms/step - loss: 0.0031 - accuracy: 1.0000\n",
      "Epoch 160/200\n",
      "26/26 [==============================] - 0s 1ms/step - loss: 0.0094 - accuracy: 1.0000\n",
      "Epoch 161/200\n",
      "26/26 [==============================] - 0s 2ms/step - loss: 0.0042 - accuracy: 1.0000\n",
      "Epoch 162/200\n",
      "26/26 [==============================] - 0s 2ms/step - loss: 0.0271 - accuracy: 0.9851\n",
      "Epoch 163/200\n",
      "26/26 [==============================] - 0s 2ms/step - loss: 0.0074 - accuracy: 1.0000\n",
      "Epoch 164/200\n",
      "26/26 [==============================] - 0s 1ms/step - loss: 0.0023 - accuracy: 1.0000\n",
      "Epoch 165/200\n",
      "26/26 [==============================] - 0s 1ms/step - loss: 0.0056 - accuracy: 1.0000\n",
      "Epoch 166/200\n",
      "26/26 [==============================] - 0s 1ms/step - loss: 0.0170 - accuracy: 1.0000\n",
      "Epoch 167/200\n",
      "26/26 [==============================] - 0s 1ms/step - loss: 0.0173 - accuracy: 0.9952\n",
      "Epoch 168/200\n",
      "26/26 [==============================] - 0s 1ms/step - loss: 0.0127 - accuracy: 0.9970\n",
      "Epoch 169/200\n",
      "26/26 [==============================] - 0s 2ms/step - loss: 0.0119 - accuracy: 1.0000\n",
      "Epoch 170/200\n",
      "26/26 [==============================] - 0s 2ms/step - loss: 0.0054 - accuracy: 1.0000\n",
      "Epoch 171/200\n",
      "26/26 [==============================] - 0s 2ms/step - loss: 0.0374 - accuracy: 0.9712\n",
      "Epoch 172/200\n",
      "26/26 [==============================] - 0s 2ms/step - loss: 0.0055 - accuracy: 1.0000\n",
      "Epoch 173/200\n",
      "26/26 [==============================] - 0s 1ms/step - loss: 0.0054 - accuracy: 1.0000\n",
      "Epoch 174/200\n",
      "26/26 [==============================] - 0s 2ms/step - loss: 0.1084 - accuracy: 0.9659\n",
      "Epoch 175/200\n",
      "26/26 [==============================] - 0s 3ms/step - loss: 0.0021 - accuracy: 1.0000\n",
      "Epoch 176/200\n",
      "26/26 [==============================] - 0s 2ms/step - loss: 0.0188 - accuracy: 1.0000\n",
      "Epoch 177/200\n",
      "26/26 [==============================] - 0s 1ms/step - loss: 0.0170 - accuracy: 0.9952\n",
      "Epoch 178/200\n",
      "26/26 [==============================] - 0s 1ms/step - loss: 0.0023 - accuracy: 1.0000\n",
      "Epoch 179/200\n",
      "26/26 [==============================] - 0s 2ms/step - loss: 0.0029 - accuracy: 1.0000\n",
      "Epoch 180/200\n",
      "26/26 [==============================] - 0s 1ms/step - loss: 0.0053 - accuracy: 1.0000\n",
      "Epoch 181/200\n",
      "26/26 [==============================] - 0s 1ms/step - loss: 0.0201 - accuracy: 0.9929\n",
      "Epoch 182/200\n",
      "26/26 [==============================] - 0s 2ms/step - loss: 0.0151 - accuracy: 1.0000\n",
      "Epoch 183/200\n",
      "26/26 [==============================] - 0s 1ms/step - loss: 0.0040 - accuracy: 1.0000\n",
      "Epoch 184/200\n",
      "26/26 [==============================] - 0s 1ms/step - loss: 0.0169 - accuracy: 0.9982\n",
      "Epoch 185/200\n",
      "26/26 [==============================] - 0s 2ms/step - loss: 0.0043 - accuracy: 1.0000\n",
      "Epoch 186/200\n",
      "26/26 [==============================] - 0s 2ms/step - loss: 0.0037 - accuracy: 1.0000\n",
      "Epoch 187/200\n",
      "26/26 [==============================] - 0s 2ms/step - loss: 0.0157 - accuracy: 1.0000\n",
      "Epoch 188/200\n",
      "26/26 [==============================] - 0s 2ms/step - loss: 0.0041 - accuracy: 1.0000\n",
      "Epoch 189/200\n",
      "26/26 [==============================] - 0s 1ms/step - loss: 0.0106 - accuracy: 1.0000\n",
      "Epoch 190/200\n",
      "26/26 [==============================] - 0s 2ms/step - loss: 0.0043 - accuracy: 1.0000\n",
      "Epoch 191/200\n",
      "26/26 [==============================] - 0s 1ms/step - loss: 0.0032 - accuracy: 1.0000\n",
      "Epoch 192/200\n",
      "26/26 [==============================] - 0s 1ms/step - loss: 9.8834e-04 - accuracy: 1.0000\n",
      "Epoch 193/200\n",
      "26/26 [==============================] - 0s 1ms/step - loss: 0.0052 - accuracy: 1.0000\n",
      "Epoch 194/200\n",
      "26/26 [==============================] - 0s 1ms/step - loss: 0.0084 - accuracy: 1.0000\n",
      "Epoch 195/200\n",
      "26/26 [==============================] - 0s 2ms/step - loss: 0.0137 - accuracy: 0.9860\n",
      "Epoch 196/200\n",
      "26/26 [==============================] - 0s 1ms/step - loss: 0.0472 - accuracy: 0.9881\n",
      "Epoch 197/200\n",
      "26/26 [==============================] - 0s 1ms/step - loss: 0.1193 - accuracy: 0.9753\n",
      "Epoch 198/200\n",
      "26/26 [==============================] - 0s 1ms/step - loss: 0.0135 - accuracy: 0.9904\n",
      "Epoch 199/200\n",
      "26/26 [==============================] - 0s 2ms/step - loss: 0.0054 - accuracy: 1.0000\n",
      "Epoch 200/200\n",
      "26/26 [==============================] - 0s 2ms/step - loss: 0.0321 - accuracy: 1.0000\n"
     ]
    }
   ],
   "source": [
    "model = Sequential()\n",
    "model.add(Dense(128, input_shape=(len(train_x[0]),), activation='relu'))\n",
    "model.add(Dropout(0.5))\n",
    "model.add(Dense(64, activation='relu'))\n",
    "model.add(Dropout(0.5))\n",
    "model.add(Dense(len(train_y[0]), activation='softmax'))\n",
    "\n",
    "sgd = SGD(lr=0.01, decay=1e-6, momentum=0.9, nesterov=True)\n",
    "model.compile(loss='categorical_crossentropy', optimizer=sgd, metrics=['accuracy'])\n",
    "\n",
    "#Training and saving the model \n",
    "hist = model.fit(np.array(train_x), np.array(train_y), epochs=200, batch_size=5, verbose=1)\n",
    "model.save('chatbot_model.h5', hist)\n"
   ]
  },
  {
   "cell_type": "code",
   "execution_count": 18,
   "metadata": {
    "colab": {
     "base_uri": "https://localhost:8080/"
    },
    "id": "NA_d6ead7TRu",
    "outputId": "6a56be35-f998-42cc-e2ef-e0b9355ac6ec"
   },
   "outputs": [
    {
     "name": "stdout",
     "output_type": "stream",
     "text": [
      "Model: \"sequential\"\n",
      "_________________________________________________________________\n",
      "Layer (type)                 Output Shape              Param #   \n",
      "=================================================================\n",
      "dense (Dense)                (None, 128)               20352     \n",
      "_________________________________________________________________\n",
      "dropout (Dropout)            (None, 128)               0         \n",
      "_________________________________________________________________\n",
      "dense_1 (Dense)              (None, 64)                8256      \n",
      "_________________________________________________________________\n",
      "dropout_1 (Dropout)          (None, 64)                0         \n",
      "_________________________________________________________________\n",
      "dense_2 (Dense)              (None, 8)                 520       \n",
      "=================================================================\n",
      "Total params: 29,128\n",
      "Trainable params: 29,128\n",
      "Non-trainable params: 0\n",
      "_________________________________________________________________\n"
     ]
    }
   ],
   "source": [
    "model.summary()"
   ]
  },
  {
   "cell_type": "code",
   "execution_count": 19,
   "metadata": {
    "id": "p-9gL5Rw8bVm"
   },
   "outputs": [],
   "source": [
    "import nltk\n",
    "from nltk.stem import WordNetLemmatizer\n",
    "lemmatizer = WordNetLemmatizer()\n",
    "import pickle\n",
    "import numpy as np\n",
    "from keras.models import load_model\n",
    "model = load_model('/content/chatbot_model.h5')\n",
    "import json\n",
    "import random\n",
    "from nltk.corpus import wordnet"
   ]
  },
  {
   "cell_type": "markdown",
   "metadata": {
    "id": "ljWZz_4hGmQL"
   },
   "source": [
    "###Now from the given dataset, we read tags and their examples :"
   ]
  },
  {
   "cell_type": "code",
   "execution_count": 21,
   "metadata": {
    "id": "2twmf33f8ka9"
   },
   "outputs": [],
   "source": [
    "intents = json.loads(open('/content/drive/MyDrive/NLP/GL Bot.json').read())"
   ]
  },
  {
   "cell_type": "code",
   "execution_count": 22,
   "metadata": {
    "colab": {
     "base_uri": "https://localhost:8080/"
    },
    "id": "KceMxaya8qPa",
    "outputId": "da5e659c-1192-4310-e0db-dfc6ee986629"
   },
   "outputs": [
    {
     "name": "stdout",
     "output_type": "stream",
     "text": [
      "{'intents': [{'tag': 'Intro', 'patterns': ['hi', 'how are you', 'is anyone there', 'hello', 'whats up', 'hey', 'yo', 'listen', 'please help me', 'i am learner from', 'i belong to', 'aiml batch', 'aifl batch', 'i am from', 'my pm is', 'blended', 'online', 'i am from', 'hey ya', 'talking to you for first time'], 'responses': ['Hello! how can i help you ?'], 'context_set': ''}, {'tag': 'Exit', 'patterns': ['thank you', 'thanks', 'cya', 'see you', 'later', 'see you later', 'goodbye', 'i am leaving', 'have a Good day', 'you helped me', 'thanks a lot', 'thanks a ton', 'you are the best', 'great help', 'too good', 'you are a good learning buddy'], 'responses': ['I hope I was able to assist you, Good Bye'], 'context_set': ''}, {'tag': 'Olympus', 'patterns': ['olympus', 'explain me how olympus works', 'I am not able to understand olympus', 'olympus window not working', 'no access to olympus', 'unable to see link in olympus', 'no link visible on olympus', 'whom to contact for olympus', 'lot of problem with olympus', 'olypus is not a good tool', 'lot of problems with olympus', 'how to use olympus', 'teach me olympus'], 'responses': ['Link: Olympus wiki'], 'context_set': ''}, {'tag': 'SL', 'patterns': ['i am not able to understand svm', 'explain me how machine learning works', 'i am not able to understand naive bayes', 'i am not able to understand logistic regression', 'i am not able to understand ensemble techb=niques', 'i am not able to understand knn', 'i am not able to understand knn imputer', 'i am not able to understand cross validation', 'i am not able to understand boosting', 'i am not able to understand random forest', 'i am not able to understand ada boosting', 'i am not able to understand gradient boosting', 'machine learning', 'ML', 'SL', 'supervised learning', 'knn', 'logistic regression', 'regression', 'classification', 'naive bayes', 'nb', 'ensemble techniques', 'bagging', 'boosting', 'ada boosting', 'ada', 'gradient boosting', 'hyper parameters'], 'responses': ['Link: Machine Learning wiki '], 'context_set': ''}, {'tag': 'NN', 'patterns': ['what is deep learning', 'unable to understand deep learning', 'explain me how deep learning works', 'i am not able to understand deep learning', 'not able to understand neural nets', 'very diffult to understand neural nets', 'unable to understand neural nets', 'ann', 'artificial intelligence', 'artificial neural networks', 'weights', 'activation function', 'hidden layers', 'softmax', 'sigmoid', 'relu', 'otimizer', 'forward propagation', 'backward propagation', 'epochs', 'epoch', 'what is an epoch', 'adam', 'sgd'], 'responses': ['Link: Neural Nets wiki'], 'context_set': ''}, {'tag': 'Bot', 'patterns': ['what is your name', 'who are you', 'name please', 'when are your hours of opertions', 'what are your working hours', 'hours of operation', 'working hours', 'hours'], 'responses': ['I am your virtual learning assistant'], 'context_set': ''}, {'tag': 'Profane', 'patterns': ['what the hell', 'bloody stupid bot', 'do you think you are very smart', 'screw you', 'i hate you', 'you are stupid', 'jerk', 'you are a joke', 'useless piece of shit'], 'responses': ['Please use respectful words'], 'context_set': ''}, {'tag': 'Ticket', 'patterns': ['my problem is not solved', 'you did not help me', 'not a good solution', 'bad solution', 'not good solution', 'no help', 'wasted my time', 'useless bot', 'create a ticket'], 'responses': ['Tarnsferring the request to your PM'], 'context_set': ''}]}\n"
     ]
    }
   ],
   "source": [
    "print(intents)"
   ]
  },
  {
   "cell_type": "code",
   "execution_count": 26,
   "metadata": {
    "colab": {
     "base_uri": "https://localhost:8080/"
    },
    "id": "2YS_Lr_T-ehJ",
    "outputId": "44bcb67c-ec18-46eb-b401-363ad50ab752"
   },
   "outputs": [
    {
     "name": "stdout",
     "output_type": "stream",
     "text": [
      "[nltk_data] Downloading package wordnet to /root/nltk_data...\n",
      "[nltk_data]   Package wordnet is already up-to-date!\n",
      "[nltk_data] Downloading package punkt to /root/nltk_data...\n",
      "[nltk_data]   Package punkt is already up-to-date!\n"
     ]
    },
    {
     "data": {
      "text/plain": [
       "True"
      ]
     },
     "execution_count": 26,
     "metadata": {
      "tags": []
     },
     "output_type": "execute_result"
    }
   ],
   "source": [
    "nltk.download('wordnet')\n",
    "nltk.download('punkt')"
   ]
  },
  {
   "cell_type": "markdown",
   "metadata": {
    "id": "bxnUARWQHMPf"
   },
   "source": [
    "###Funtion to perform cleanup operations : "
   ]
  },
  {
   "cell_type": "code",
   "execution_count": 27,
   "metadata": {
    "id": "tQI5uRLI-ejj"
   },
   "outputs": [],
   "source": [
    "def clean_up_sentence(sentence):\n",
    "    # tokenize the pattern - splitting words into array\n",
    "    sentence_words = nltk.word_tokenize(sentence)\n",
    "    \n",
    "    # stemming every word - reducing to base form\n",
    "    sentence_words = [lemmatizer.lemmatize(word.lower()) for word in sentence_words]\n",
    "    \n",
    "    return sentence_words\n"
   ]
  },
  {
   "cell_type": "markdown",
   "metadata": {
    "id": "KdDoLGymHRNe"
   },
   "source": [
    "###Funtion to return Bag of Words :"
   ]
  },
  {
   "cell_type": "code",
   "execution_count": 31,
   "metadata": {
    "id": "Q8AopZV7-eo4"
   },
   "outputs": [],
   "source": [
    "def bag_of_words(sentence, words, show_details=True):\n",
    "    # tokenizing patterns\n",
    "    sentence_words = clean_up_sentence(sentence)\n",
    "    \n",
    "    # bag of words - vocabulary matrix\n",
    "    bag = [0]*len(words)  \n",
    "    for s in sentence_words:\n",
    "        for i,word in enumerate(words):\n",
    "            if word == s: \n",
    "                # assign 1 if current word is in the vocabulary position\n",
    "                bag[i] = 1\n",
    "                \n",
    "                if show_details:\n",
    "                    print (\"found in bag: %s\" % word)\n",
    "    \n",
    "    return(np.array(bag))"
   ]
  },
  {
   "cell_type": "markdown",
   "metadata": {
    "id": "AjPAJ8L-HEpB"
   },
   "source": [
    "###Function to predict the class :"
   ]
  },
  {
   "cell_type": "code",
   "execution_count": 32,
   "metadata": {
    "id": "jbLdolpm-equ"
   },
   "outputs": [],
   "source": [
    "def predict_class(sentence):\n",
    "    # filter below  threshold predictions\n",
    "    p = bag_of_words(sentence, words,show_details=False)\n",
    "    res = model.predict(np.array([p]))[0]\n",
    "    \n",
    "    ERROR_THRESHOLD = 0.25\n",
    "    results = [[i,r] for i,r in enumerate(res) if r>ERROR_THRESHOLD]\n",
    "    \n",
    "    # sorting strength probability\n",
    "    results.sort(key=lambda x: x[1], reverse=True)\n",
    "    \n",
    "    return_list = []\n",
    "    \n",
    "    for r in results:\n",
    "        return_list.append({\"intent\": classes[r[0]], \"probability\": str(r[1])})\n",
    "    \n",
    "    return return_list"
   ]
  },
  {
   "cell_type": "markdown",
   "metadata": {
    "id": "387BT-UDHtlm"
   },
   "source": [
    "###Funtion to get response :"
   ]
  },
  {
   "cell_type": "code",
   "execution_count": 33,
   "metadata": {
    "id": "uqE5oe2K-esr"
   },
   "outputs": [],
   "source": [
    "def getResponse(ints, intents_json):\n",
    "    tag = ints[0]['intent']\n",
    "    list_of_intents = intents_json['intents']\n",
    "    for i in list_of_intents:\n",
    "        \n",
    "        if(i['tag']== tag):\n",
    "            result = random.choice(i['responses'])\n",
    "            break\n",
    "    return result"
   ]
  },
  {
   "cell_type": "code",
   "execution_count": 34,
   "metadata": {
    "colab": {
     "base_uri": "https://localhost:8080/"
    },
    "id": "WFGS5gcGBjkW",
    "outputId": "5645052c-bf20-4292-a20c-35524474e0dc"
   },
   "outputs": [
    {
     "name": "stdout",
     "output_type": "stream",
     "text": [
      "[{'tag': 'Intro', 'patterns': ['hi', 'how are you', 'is anyone there', 'hello', 'whats up', 'hey', 'yo', 'listen', 'please help me', 'i am learner from', 'i belong to', 'aiml batch', 'aifl batch', 'i am from', 'my pm is', 'blended', 'online', 'i am from', 'hey ya', 'talking to you for first time'], 'responses': ['Hello! how can i help you ?'], 'context_set': ''}, {'tag': 'Exit', 'patterns': ['thank you', 'thanks', 'cya', 'see you', 'later', 'see you later', 'goodbye', 'i am leaving', 'have a Good day', 'you helped me', 'thanks a lot', 'thanks a ton', 'you are the best', 'great help', 'too good', 'you are a good learning buddy'], 'responses': ['I hope I was able to assist you, Good Bye'], 'context_set': ''}, {'tag': 'Olympus', 'patterns': ['olympus', 'explain me how olympus works', 'I am not able to understand olympus', 'olympus window not working', 'no access to olympus', 'unable to see link in olympus', 'no link visible on olympus', 'whom to contact for olympus', 'lot of problem with olympus', 'olypus is not a good tool', 'lot of problems with olympus', 'how to use olympus', 'teach me olympus'], 'responses': ['Link: Olympus wiki'], 'context_set': ''}, {'tag': 'SL', 'patterns': ['i am not able to understand svm', 'explain me how machine learning works', 'i am not able to understand naive bayes', 'i am not able to understand logistic regression', 'i am not able to understand ensemble techb=niques', 'i am not able to understand knn', 'i am not able to understand knn imputer', 'i am not able to understand cross validation', 'i am not able to understand boosting', 'i am not able to understand random forest', 'i am not able to understand ada boosting', 'i am not able to understand gradient boosting', 'machine learning', 'ML', 'SL', 'supervised learning', 'knn', 'logistic regression', 'regression', 'classification', 'naive bayes', 'nb', 'ensemble techniques', 'bagging', 'boosting', 'ada boosting', 'ada', 'gradient boosting', 'hyper parameters'], 'responses': ['Link: Machine Learning wiki '], 'context_set': ''}, {'tag': 'NN', 'patterns': ['what is deep learning', 'unable to understand deep learning', 'explain me how deep learning works', 'i am not able to understand deep learning', 'not able to understand neural nets', 'very diffult to understand neural nets', 'unable to understand neural nets', 'ann', 'artificial intelligence', 'artificial neural networks', 'weights', 'activation function', 'hidden layers', 'softmax', 'sigmoid', 'relu', 'otimizer', 'forward propagation', 'backward propagation', 'epochs', 'epoch', 'what is an epoch', 'adam', 'sgd'], 'responses': ['Link: Neural Nets wiki'], 'context_set': ''}, {'tag': 'Bot', 'patterns': ['what is your name', 'who are you', 'name please', 'when are your hours of opertions', 'what are your working hours', 'hours of operation', 'working hours', 'hours'], 'responses': ['I am your virtual learning assistant'], 'context_set': ''}, {'tag': 'Profane', 'patterns': ['what the hell', 'bloody stupid bot', 'do you think you are very smart', 'screw you', 'i hate you', 'you are stupid', 'jerk', 'you are a joke', 'useless piece of shit'], 'responses': ['Please use respectful words'], 'context_set': ''}, {'tag': 'Ticket', 'patterns': ['my problem is not solved', 'you did not help me', 'not a good solution', 'bad solution', 'not good solution', 'no help', 'wasted my time', 'useless bot', 'create a ticket'], 'responses': ['Tarnsferring the request to your PM'], 'context_set': ''}]\n"
     ]
    }
   ],
   "source": [
    "print(intents['intents'])"
   ]
  },
  {
   "cell_type": "markdown",
   "metadata": {
    "id": "xXDU16pUH0KH"
   },
   "source": [
    "###Now we will test our chat utility :"
   ]
  },
  {
   "cell_type": "code",
   "execution_count": 37,
   "metadata": {
    "colab": {
     "base_uri": "https://localhost:8080/"
    },
    "id": "iJYbSGNIBjnA",
    "outputId": "a3df4a74-0c9c-49cc-e0da-a5888346f160"
   },
   "outputs": [
    {
     "name": "stdout",
     "output_type": "stream",
     "text": [
      "Chat with Ramos(type: stop to quit)\n",
      "If the answer is not right(type:*)\n",
      "\n",
      "\n",
      "You:Hello\n",
      "[{'intent': 'Intro', 'probability': '0.9998907'}]\n",
      "Hello! how can i help you ?\n",
      "\n",
      "\n",
      "You:how are you\n",
      "[{'intent': 'Intro', 'probability': '0.99973935'}]\n",
      "Hello! how can i help you ?\n",
      "\n",
      "\n",
      "You:ml\n",
      "[{'intent': 'SL', 'probability': '0.9999883'}]\n",
      "Link: Machine Learning wiki \n",
      "\n",
      "\n",
      "You:nn\n",
      "[{'intent': 'NN', 'probability': '0.42720532'}, {'intent': 'SL', 'probability': '0.39161453'}]\n",
      "Link: Neural Nets wiki\n",
      "\n",
      "\n",
      "You:hell\n",
      "[{'intent': 'Profane', 'probability': '0.9940089'}]\n",
      "Please use respectful words\n",
      "\n",
      "\n",
      "You:quit\n"
     ]
    }
   ],
   "source": [
    "# Text chat utility function\n",
    "from nltk.corpus import wordnet\n",
    "def chat():\n",
    "    print(\"Chat with Ramos(type: stop to quit)\")\n",
    "    print(\"If the answer is not right(type:*)\")\n",
    "    while True:\n",
    "        inp=input(\"\\n\\nYou:\")\n",
    "        \n",
    "        if inp.lower()==\"*\":\n",
    "            print(\"BOT:Please rephrase your question and try again\")\n",
    "        \n",
    "        if inp.lower()==\"quit\":\n",
    "            break\n",
    "        \n",
    "        ints = predict_class(inp)\n",
    "        print(ints)\n",
    "        \n",
    "        res = getResponse(ints, intents)\n",
    "        print(res)\n",
    "        \n",
    "chat()"
   ]
  },
  {
   "cell_type": "markdown",
   "metadata": {
    "id": "VOrcl0CVX1JE"
   },
   "source": [
    "###Conclusion :\n",
    "\n",
    "We can clearly see that our chat utility works fine on our inputs. It categorized the query into tags and also respond with appropriate results. It continues to work in an infinnite loop until we try to quit the chat. \n",
    "\n",
    "Also, after identifying or mapping query to categories, it also calulates the probabilities and result with maximum probability is returned.\n",
    "\n",
    "We started with cleaning up our data, creating training data and then defined our neural network. After that we defined functions to identify classes, return bag of words and also return response to our queries.\n",
    "\n",
    "At the end, we find that our chat utility works fine on our queries, classifying it into categories and also responding with appropriate responses.\n",
    "\n"
   ]
  }
 ],
 "metadata": {
  "colab": {
   "collapsed_sections": [],
   "name": "Assignment_NLP_Sourabh_Bhavsar.ipynb",
   "provenance": []
  },
  "kernelspec": {
   "display_name": "Python 3",
   "language": "python",
   "name": "python3"
  },
  "language_info": {
   "codemirror_mode": {
    "name": "ipython",
    "version": 3
   },
   "file_extension": ".py",
   "mimetype": "text/x-python",
   "name": "python",
   "nbconvert_exporter": "python",
   "pygments_lexer": "ipython3",
   "version": "3.7.4"
  }
 },
 "nbformat": 4,
 "nbformat_minor": 1
}
